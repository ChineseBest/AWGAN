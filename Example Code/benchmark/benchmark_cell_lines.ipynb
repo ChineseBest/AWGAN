{
  "nbformat": 4,
  "nbformat_minor": 0,
  "metadata": {
    "colab": {
      "name": "benchmark_cell_lines.ipynb",
      "provenance": [],
      "collapsed_sections": [],
      "toc_visible": true,
      "machine_shape": "hm"
    },
    "kernelspec": {
      "display_name": "Python 3",
      "name": "python3"
    },
    "language_info": {
      "name": "python"
    }
  },
  "cells": [
    {
      "cell_type": "code",
      "metadata": {
        "id": "v9K1LYzttpdn"
      },
      "source": [
        "!pip install scprep phate magic-impute mnnpy scanpy loompy scikit-misc iMAP bbknn"
      ],
      "execution_count": null,
      "outputs": []
    },
    {
      "cell_type": "code",
      "metadata": {
        "id": "_hWhzIE9fBYV"
      },
      "source": [
        "import mnnpy"
      ],
      "execution_count": null,
      "outputs": []
    },
    {
      "cell_type": "code",
      "metadata": {
        "id": "ha9SNPjUfGfd"
      },
      "source": [
        "mnnpy.utils"
      ],
      "execution_count": null,
      "outputs": []
    },
    {
      "cell_type": "code",
      "metadata": {
        "id": "ArswLgf8BMVM"
      },
      "source": [
        "pip install git+https://github.com/theislab/scib.git"
      ],
      "execution_count": null,
      "outputs": []
    },
    {
      "cell_type": "code",
      "metadata": {
        "id": "LbsuGtcrtZdg"
      },
      "source": [
        "#### IMPORT LIBRARY ####\n",
        "import scanpy as sc\n",
        "import scprep\n",
        "import copy\n",
        "from collections import Counter\n",
        "import umap.umap_ as umap\n",
        "import pandas as pd\n",
        "import scIB"
      ],
      "execution_count": null,
      "outputs": []
    },
    {
      "cell_type": "code",
      "execution_count": null,
      "metadata": {},
      "outputs": [],
      "source": [
        "def preprocessing(adata):\n",
        "  sc.pp.filter_cells(adata,3)\n",
        "  sc.pp.filter_genes(adata,200)\n",
        "  sc.pp.normalize_per_cell(adata,1e4)\n",
        "  sc.pp.log1p(adata)\n",
        "  return adata"
      ]
    },
    {
      "cell_type": "code",
      "metadata": {
        "id": "-qQ0wKSuBlNY"
      },
      "source": [
        "import rpy2\n",
        "%load_ext rpy2.ipython"
      ],
      "execution_count": null,
      "outputs": []
    },
    {
      "cell_type": "code",
      "metadata": {
        "id": "y8AkZcBYt5GB"
      },
      "source": [
        "adata = sc.read_loom('/content/drive/MyDrive/data/cell_lines.loom',sparse=False)  #Load cell line dataset(-> count data). "
      ],
      "execution_count": null,
      "outputs": []
    },
    {
      "cell_type": "code",
      "metadata": {
        "id": "3z6aMIsP5_ZF"
      },
      "source": [
        "adata_old = copy.deepcopy(adata)"
      ],
      "execution_count": null,
      "outputs": []
    },
    {
      "cell_type": "markdown",
      "metadata": {},
      "source": [
        "# raw"
      ]
    },
    {
      "cell_type": "code",
      "metadata": {
        "id": "BsJFF0fTqlvl"
      },
      "source": [
        "c=Counter(adata.obs['batch'])"
      ],
      "execution_count": null,
      "outputs": []
    },
    {
      "cell_type": "code",
      "metadata": {
        "id": "Yupd-526qp4O"
      },
      "source": [
        "adata = preprocessing(adata)"
      ],
      "execution_count": null,
      "outputs": []
    },
    {
      "cell_type": "code",
      "metadata": {
        "id": "I0fh_-e7_DKv"
      },
      "source": [
        "adata_now = sc.AnnData(adata.X)"
      ],
      "execution_count": null,
      "outputs": []
    },
    {
      "cell_type": "code",
      "metadata": {
        "id": "dgTtMS3__JQh"
      },
      "source": [
        "adata_now.obs['batch'] = adata.obs['batch']\n",
        "adata_now.obs['celltype'] = adata.obs['celltype']\n",
        "adata_now.obs_names = adata.obs_names"
      ],
      "execution_count": null,
      "outputs": []
    },
    {
      "cell_type": "code",
      "metadata": {
        "id": "wv7FzwUJ_UIv"
      },
      "source": [
        "adata_now.write_loom('cl_liger.loom')"
      ],
      "execution_count": null,
      "outputs": []
    },
    {
      "cell_type": "markdown",
      "metadata": {
        "id": "c2uZmAxQJ35K"
      },
      "source": [
        "# mnn"
      ]
    },
    {
      "cell_type": "code",
      "metadata": {
        "id": "vBj-tIbBqT1z"
      },
      "source": [
        "import mnnpy"
      ],
      "execution_count": null,
      "outputs": []
    },
    {
      "cell_type": "code",
      "metadata": {
        "id": "tTAJUy3QbXaY"
      },
      "source": [
        "mnnpy.utils"
      ],
      "execution_count": null,
      "outputs": []
    },
    {
      "cell_type": "code",
      "metadata": {
        "id": "pSM7gd8vKE53"
      },
      "source": [
        "c = Counter(adata_old.obs['batch'])"
      ],
      "execution_count": null,
      "outputs": []
    },
    {
      "cell_type": "code",
      "metadata": {
        "id": "OEWMJCxPKK8B"
      },
      "source": [
        "c = dict(c)\n",
        "c"
      ],
      "execution_count": null,
      "outputs": []
    },
    {
      "cell_type": "code",
      "execution_count": null,
      "metadata": {},
      "outputs": [],
      "source": [
        "adata_old = imap.stage1.data_preprocess(adata_old)"
      ]
    },
    {
      "cell_type": "code",
      "metadata": {
        "id": "Tn7V8dmWnxAM"
      },
      "source": [
        "adata1 = adata_old[adata_old.obs['batch'] == '293t']\n",
        "adata2 = adata_old[adata_old.obs['batch'] == 'Jurkat']\n",
        "adata3 = adata_old[adata_old.obs['batch'] == 'Mix']"
      ],
      "execution_count": null,
      "outputs": []
    },
    {
      "cell_type": "code",
      "metadata": {
        "id": "ZTh1FTeOJ5py"
      },
      "source": [
        "cdata = mnnpy.mnn_correct(adata1, adata2, adata3, svd_dim=50,batch_key = 'batch', batch_categories=['293t', 'Jurkat', 'Mix'])[0]"
      ],
      "execution_count": null,
      "outputs": []
    },
    {
      "cell_type": "code",
      "metadata": {
        "id": "ID5GPss99r1I"
      },
      "source": [
        "cdata"
      ],
      "execution_count": null,
      "outputs": []
    },
    {
      "cell_type": "markdown",
      "metadata": {
        "id": "eODmcjxfOhao"
      },
      "source": [
        "# BBKNN\n"
      ]
    },
    {
      "cell_type": "code",
      "metadata": {
        "id": "8jvJHOiP_Vyp"
      },
      "source": [
        "import bbknn"
      ],
      "execution_count": null,
      "outputs": []
    },
    {
      "cell_type": "code",
      "metadata": {
        "id": "sYOHBqundij4"
      },
      "source": [
        "sc.tl.pca(adata_old)\n",
        "bbknn.bbknn(adata_old, batch_key='batch')"
      ],
      "execution_count": null,
      "outputs": []
    },
    {
      "cell_type": "code",
      "metadata": {
        "id": "CzGNd_uKuxO4"
      },
      "source": [
        "sc.tl.umap(adata_old)"
      ],
      "execution_count": null,
      "outputs": []
    },
    {
      "cell_type": "code",
      "metadata": {
        "id": "Ujd-oUCPzwfT"
      },
      "source": [
        "adata_old.obs['batch'] = adata_old.obs['batch'].astype('category')\n",
        "adata_old.obs['celltype'] = adata_old.obs['celltype'].astype('category')"
      ],
      "execution_count": null,
      "outputs": []
    },
    {
      "cell_type": "code",
      "metadata": {
        "id": "cMqnqi1OwaSB"
      },
      "source": [
        "sc.pl.umap(adata_old, color=['celltype'])"
      ],
      "execution_count": null,
      "outputs": []
    },
    {
      "cell_type": "markdown",
      "metadata": {
        "id": "kf3Wl3ZA6rXD"
      },
      "source": [
        "# IMAP\n"
      ]
    },
    {
      "cell_type": "code",
      "execution_count": null,
      "metadata": {},
      "outputs": [],
      "source": [
        "adata = imap.stage1.data_preprocess(adata)"
      ]
    },
    {
      "cell_type": "code",
      "metadata": {
        "id": "OFdHu0qCuGiZ"
      },
      "source": [
        "### Stage I\n",
        "EC, ec_data = imap.stage1.iMAP_fast(adata, key=\"batch\", n_epochs=200) \n",
        "\n",
        "### Stage II\n",
        "output_results = imap.stage2.integrate_data(adata, ec_data, inc = False, n_epochs=300)"
      ],
      "execution_count": null,
      "outputs": []
    },
    {
      "cell_type": "markdown",
      "metadata": {
        "id": "m-NvwvU9-K2S"
      },
      "source": [
        "# Harmony"
      ]
    },
    {
      "cell_type": "code",
      "metadata": {
        "id": "1G_XgFPL-O6v"
      },
      "source": [
        "!pip install harmonypy"
      ],
      "execution_count": null,
      "outputs": []
    },
    {
      "cell_type": "code",
      "metadata": {
        "id": "MaB1Kd9xnz81"
      },
      "source": [
        "import scprep\n",
        "import imap  #used for feature detected\n",
        "import numpy as np\n",
        "import pandas as pd\n",
        "import matplotlib.pyplot as plt\n",
        "import phate\n",
        "import graphtools as gt\n",
        "import magic\n",
        "import os\n",
        "import datetime\n",
        "import scanpy as sc\n",
        "from skmisc.loess import loess\n",
        "import sklearn.preprocessing as preprocessing\n",
        "import harmonypy as harmony\n",
        "import umap.umap_ as umap"
      ],
      "execution_count": null,
      "outputs": []
    },
    {
      "cell_type": "code",
      "metadata": {
        "id": "P-LoQmZbn3uR"
      },
      "source": [
        "import torch.autograd\n",
        "import torch.nn as nn\n",
        "from torch.autograd import Variable\n",
        "import torch.nn.functional as F\n",
        "from torchvision import transforms\n",
        "from torchvision import datasets\n",
        "import torch.utils.data as Data  #Data是用来批训练的模块\n",
        "from torchvision.utils import save_image\n",
        "import numpy as np\n",
        "import os\n",
        "import pandas as pd\n",
        "import torch.optim.lr_scheduler as lr_s "
      ],
      "execution_count": null,
      "outputs": []
    },
    {
      "cell_type": "code",
      "metadata": {
        "id": "OVlmDGZAn6Cn"
      },
      "source": [
        "from collections import Counter\n",
        "import copy\n",
        "import loompy"
      ],
      "execution_count": null,
      "outputs": []
    },
    {
      "cell_type": "code",
      "metadata": {
        "id": "pUScJDfc_U6D"
      },
      "source": [
        "adata = sc.read_loom('/content/drive/MyDrive/data/cell_lines.loom',sparse=False)  #Load cell line dataset(-> count data). \n",
        "adata_old = copy.deepcopy(adata)"
      ],
      "execution_count": null,
      "outputs": []
    },
    {
      "cell_type": "code",
      "metadata": {
        "id": "WzU2QNmN_U-Q"
      },
      "source": [
        "adata_old = imap.stage1.data_preprocess(adata_old)"
      ],
      "execution_count": null,
      "outputs": []
    },
    {
      "cell_type": "code",
      "metadata": {
        "id": "7LIr6KxDoYNk"
      },
      "source": [
        "metadata = pd.DataFrame(adata_old.obs['batch'], columns=['cellname', 'batch'])"
      ],
      "execution_count": null,
      "outputs": []
    },
    {
      "cell_type": "code",
      "metadata": {
        "id": "FStGZmanoVgk"
      },
      "source": [
        "output_results = harmony.run_harmony(adata_old.X, metadata, vars_use=['batch'])"
      ],
      "execution_count": null,
      "outputs": []
    },
    {
      "cell_type": "code",
      "metadata": {
        "id": "eVtU8aSa1pS6"
      },
      "source": [
        "result = output_results.Z_corr.T"
      ],
      "execution_count": null,
      "outputs": []
    },
    {
      "cell_type": "code",
      "metadata": {
        "id": "x0sbJMRs1vg-"
      },
      "source": [
        "res = pd.DataFrame(result)"
      ],
      "execution_count": null,
      "outputs": []
    },
    {
      "cell_type": "markdown",
      "metadata": {
        "id": "Q5pwTXqd-M2c"
      },
      "source": [
        "# scVI"
      ]
    },
    {
      "cell_type": "code",
      "metadata": {
        "id": "sLVH8weo-TMc"
      },
      "source": [
        "import sys\n",
        "\n",
        "#if branch is stable, will install via pypi, else will install from source\n",
        "branch = \"stable\"\n",
        "IN_COLAB = \"google.colab\" in sys.modules\n",
        "\n",
        "if IN_COLAB and branch == \"stable\":\n",
        "    !pip install --quiet scvi-tools[tutorials]\n",
        "elif IN_COLAB and branch != \"stable\":\n",
        "    !pip install --quiet --upgrade jsonschema\n",
        "    !pip install --quiet git+https://github.com/yoseflab/scvi-tools@$branch#egg=scvi-tools[tutorials]"
      ],
      "execution_count": null,
      "outputs": []
    },
    {
      "cell_type": "code",
      "metadata": {
        "id": "e8Cj_Cbq-UFH"
      },
      "source": [
        "import scanpy as sc\n",
        "import os\n",
        "import pandas as pd\n",
        "import numpy as np\n",
        "import matplotlib.pyplot as plt\n",
        "\n",
        "import scvi\n",
        "import copy\n",
        "import umap.umap_ as umap\n",
        "%matplotlib inline"
      ],
      "execution_count": null,
      "outputs": []
    },
    {
      "cell_type": "code",
      "metadata": {
        "id": "7QVlJJNi_vNj"
      },
      "source": [
        ""
      ],
      "execution_count": null,
      "outputs": []
    },
    {
      "cell_type": "code",
      "metadata": {
        "id": "4M09MsI32CYs"
      },
      "source": [
        "adata = sc.read_loom('cell_lines.loom',sparse=False)  #Load cell line dataset(-> count data). "
      ],
      "execution_count": null,
      "outputs": []
    },
    {
      "cell_type": "code",
      "execution_count": null,
      "metadata": {},
      "outputs": [],
      "source": [
        "adata.layers['counts'] = adata.X.copy()\n",
        "#Use raw count, accoridng the tutorial\n",
        "sc.pp.normalize_total(adata, target_sum=1e4)\n",
        "sc.pp.log1p(adata)\n",
        "sc.pp.highly_variable_genes(\n",
        "    adata,\n",
        "    n_top_genes=2000,\n",
        "    flavor=\"seurat_v3\",\n",
        "    batch_key=\"batch\",\n",
        "    subset=True,\n",
        "    layer=\"counts\"\n",
        ")\n",
        "\n",
        "\n",
        "scvi.data.setup_anndata(adata, layer=\"counts\")\n",
        "\n",
        "\n",
        "model = scvi.model.SCVI(adata,n_latent=30)\n",
        "\n",
        "model.train(max_epochs=200)\n",
        "\n",
        "result = model.get_latent_representation()"
      ]
    }
  ]
}