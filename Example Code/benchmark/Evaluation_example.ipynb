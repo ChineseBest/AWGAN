{
  "nbformat": 4,
  "nbformat_minor": 0,
  "metadata": {
    "colab": {
      "name": "BM_DC.ipynb",
      "provenance": [],
      "collapsed_sections": [
        "Dg_HLrIKvHr2"
      ],
      "toc_visible": true
    },
    "kernelspec": {
      "name": "python3",
      "display_name": "Python 3"
    },
    "language_info": {
      "name": "python"
    }
  },
  "cells": [
    {
      "cell_type": "code",
      "metadata": {
        "colab": {
          "base_uri": "https://localhost:8080/"
        },
        "id": "z66gB-UxTbKb",
        "outputId": "841100e8-ebae-4676-d4e0-bb2e0d98c436"
      },
      "source": [
        "!pip install iMAP"
      ],
      "execution_count": null,
      "outputs": [
        {
          "output_type": "stream",
          "name": "stdout",
          "text": [
            "Collecting iMAP\n",
            "  Downloading imap-1.0.0.tar.gz (77 kB)\n",
            "\u001b[?25l\r\u001b[K     |████▎                           | 10 kB 22.5 MB/s eta 0:00:01\r\u001b[K     |████████▌                       | 20 kB 27.4 MB/s eta 0:00:01\r\u001b[K     |████████████▊                   | 30 kB 15.8 MB/s eta 0:00:01\r\u001b[K     |█████████████████               | 40 kB 11.6 MB/s eta 0:00:01\r\u001b[K     |█████████████████████▏          | 51 kB 8.0 MB/s eta 0:00:01\r\u001b[K     |█████████████████████████▍      | 61 kB 7.3 MB/s eta 0:00:01\r\u001b[K     |█████████████████████████████▊  | 71 kB 8.0 MB/s eta 0:00:01\r\u001b[K     |████████████████████████████████| 77 kB 2.9 MB/s \n",
            "\u001b[?25hRequirement already satisfied: numpy in /usr/local/lib/python3.7/dist-packages (from iMAP) (1.19.5)\n",
            "Collecting scanpy\n",
            "  Downloading scanpy-1.8.1-py3-none-any.whl (2.0 MB)\n",
            "\u001b[K     |████████████████████████████████| 2.0 MB 18.9 MB/s \n",
            "\u001b[?25hRequirement already satisfied: torch in /usr/local/lib/python3.7/dist-packages (from iMAP) (1.9.0+cu111)\n",
            "Requirement already satisfied: pandas in /usr/local/lib/python3.7/dist-packages (from iMAP) (1.1.5)\n",
            "Collecting annoy\n",
            "  Downloading annoy-1.17.0.tar.gz (646 kB)\n",
            "\u001b[K     |████████████████████████████████| 646 kB 67.1 MB/s \n",
            "\u001b[?25hRequirement already satisfied: python-dateutil>=2.7.3 in /usr/local/lib/python3.7/dist-packages (from pandas->iMAP) (2.8.2)\n",
            "Requirement already satisfied: pytz>=2017.2 in /usr/local/lib/python3.7/dist-packages (from pandas->iMAP) (2018.9)\n",
            "Requirement already satisfied: six>=1.5 in /usr/local/lib/python3.7/dist-packages (from python-dateutil>=2.7.3->pandas->iMAP) (1.15.0)\n",
            "Collecting anndata>=0.7.4\n",
            "  Downloading anndata-0.7.6-py3-none-any.whl (127 kB)\n",
            "\u001b[K     |████████████████████████████████| 127 kB 34.6 MB/s \n",
            "\u001b[?25hRequirement already satisfied: networkx>=2.3 in /usr/local/lib/python3.7/dist-packages (from scanpy->iMAP) (2.6.3)\n",
            "Requirement already satisfied: numba>=0.41.0 in /usr/local/lib/python3.7/dist-packages (from scanpy->iMAP) (0.51.2)\n",
            "Requirement already satisfied: tables in /usr/local/lib/python3.7/dist-packages (from scanpy->iMAP) (3.4.4)\n",
            "Requirement already satisfied: seaborn in /usr/local/lib/python3.7/dist-packages (from scanpy->iMAP) (0.11.2)\n",
            "Requirement already satisfied: statsmodels>=0.10.0rc2 in /usr/local/lib/python3.7/dist-packages (from scanpy->iMAP) (0.10.2)\n",
            "Requirement already satisfied: matplotlib>=3.1.2 in /usr/local/lib/python3.7/dist-packages (from scanpy->iMAP) (3.2.2)\n",
            "Requirement already satisfied: scipy>=1.4 in /usr/local/lib/python3.7/dist-packages (from scanpy->iMAP) (1.4.1)\n",
            "Requirement already satisfied: patsy in /usr/local/lib/python3.7/dist-packages (from scanpy->iMAP) (0.5.2)\n",
            "Requirement already satisfied: packaging in /usr/local/lib/python3.7/dist-packages (from scanpy->iMAP) (21.0)\n",
            "Collecting sinfo\n",
            "  Downloading sinfo-0.3.4.tar.gz (24 kB)\n",
            "Requirement already satisfied: importlib_metadata>=0.7 in /usr/local/lib/python3.7/dist-packages (from scanpy->iMAP) (4.8.1)\n",
            "Requirement already satisfied: scikit-learn>=0.22 in /usr/local/lib/python3.7/dist-packages (from scanpy->iMAP) (0.22.2.post1)\n",
            "Requirement already satisfied: tqdm in /usr/local/lib/python3.7/dist-packages (from scanpy->iMAP) (4.62.3)\n",
            "Collecting umap-learn>=0.3.10\n",
            "  Downloading umap-learn-0.5.1.tar.gz (80 kB)\n",
            "\u001b[K     |████████████████████████████████| 80 kB 8.1 MB/s \n",
            "\u001b[?25hRequirement already satisfied: natsort in /usr/local/lib/python3.7/dist-packages (from scanpy->iMAP) (5.5.0)\n",
            "Requirement already satisfied: joblib in /usr/local/lib/python3.7/dist-packages (from scanpy->iMAP) (1.0.1)\n",
            "Requirement already satisfied: h5py>=2.10.0 in /usr/local/lib/python3.7/dist-packages (from scanpy->iMAP) (3.1.0)\n",
            "Requirement already satisfied: xlrd<2.0 in /usr/local/lib/python3.7/dist-packages (from anndata>=0.7.4->scanpy->iMAP) (1.1.0)\n",
            "Requirement already satisfied: cached-property in /usr/local/lib/python3.7/dist-packages (from h5py>=2.10.0->scanpy->iMAP) (1.5.2)\n",
            "Requirement already satisfied: zipp>=0.5 in /usr/local/lib/python3.7/dist-packages (from importlib_metadata>=0.7->scanpy->iMAP) (3.6.0)\n",
            "Requirement already satisfied: typing-extensions>=3.6.4 in /usr/local/lib/python3.7/dist-packages (from importlib_metadata>=0.7->scanpy->iMAP) (3.7.4.3)\n",
            "Requirement already satisfied: kiwisolver>=1.0.1 in /usr/local/lib/python3.7/dist-packages (from matplotlib>=3.1.2->scanpy->iMAP) (1.3.2)\n",
            "Requirement already satisfied: cycler>=0.10 in /usr/local/lib/python3.7/dist-packages (from matplotlib>=3.1.2->scanpy->iMAP) (0.10.0)\n",
            "Requirement already satisfied: pyparsing!=2.0.4,!=2.1.2,!=2.1.6,>=2.0.1 in /usr/local/lib/python3.7/dist-packages (from matplotlib>=3.1.2->scanpy->iMAP) (2.4.7)\n",
            "Requirement already satisfied: llvmlite<0.35,>=0.34.0.dev0 in /usr/local/lib/python3.7/dist-packages (from numba>=0.41.0->scanpy->iMAP) (0.34.0)\n",
            "Requirement already satisfied: setuptools in /usr/local/lib/python3.7/dist-packages (from numba>=0.41.0->scanpy->iMAP) (57.4.0)\n",
            "Collecting pynndescent>=0.5\n",
            "  Downloading pynndescent-0.5.5.tar.gz (1.1 MB)\n",
            "\u001b[K     |████████████████████████████████| 1.1 MB 60.0 MB/s \n",
            "\u001b[?25hCollecting stdlib_list\n",
            "  Downloading stdlib_list-0.8.0-py3-none-any.whl (63 kB)\n",
            "\u001b[K     |████████████████████████████████| 63 kB 1.8 MB/s \n",
            "\u001b[?25hRequirement already satisfied: numexpr>=2.5.2 in /usr/local/lib/python3.7/dist-packages (from tables->scanpy->iMAP) (2.7.3)\n",
            "Building wheels for collected packages: iMAP, annoy, umap-learn, pynndescent, sinfo\n",
            "  Building wheel for iMAP (setup.py) ... \u001b[?25l\u001b[?25hdone\n",
            "  Created wheel for iMAP: filename=imap-1.0.0-py3-none-any.whl size=10247 sha256=0661867cdabefb68aa56471aca22ed686795bc6150fff895cc9b911422a28027\n",
            "  Stored in directory: /root/.cache/pip/wheels/eb/06/58/24adf464951e7db0a10cb415d7503d7113d225f3c871cf4f93\n",
            "  Building wheel for annoy (setup.py) ... \u001b[?25l\u001b[?25hdone\n",
            "  Created wheel for annoy: filename=annoy-1.17.0-cp37-cp37m-linux_x86_64.whl size=391680 sha256=1033273a19c46a44fa4de4633fa7958342533ea57e9b2be9435ff97d47501c1b\n",
            "  Stored in directory: /root/.cache/pip/wheels/4f/e8/1e/7cc9ebbfa87a3b9f8ba79408d4d31831d67eea918b679a4c07\n",
            "  Building wheel for umap-learn (setup.py) ... \u001b[?25l\u001b[?25hdone\n",
            "  Created wheel for umap-learn: filename=umap_learn-0.5.1-py3-none-any.whl size=76564 sha256=943e6a0310e3d62aa7da5c3214bea4665f8da0663beff6fe7f9b620c507ba517\n",
            "  Stored in directory: /root/.cache/pip/wheels/01/e7/bb/347dc0e510803d7116a13d592b10cc68262da56a8eec4dd72f\n",
            "  Building wheel for pynndescent (setup.py) ... \u001b[?25l\u001b[?25hdone\n",
            "  Created wheel for pynndescent: filename=pynndescent-0.5.5-py3-none-any.whl size=52603 sha256=1c76c910a73d415189c353f77c24b2c46878828942332e51b89197f9513a72e3\n",
            "  Stored in directory: /root/.cache/pip/wheels/af/e9/33/04db1436df0757c42fda8ea6796d7a8586e23c85fac355f476\n",
            "  Building wheel for sinfo (setup.py) ... \u001b[?25l\u001b[?25hdone\n",
            "  Created wheel for sinfo: filename=sinfo-0.3.4-py3-none-any.whl size=7899 sha256=c0c4e225f34cb9b11dc328b2462bf4bb044bc61404919b5643f6182571a1c7d2\n",
            "  Stored in directory: /root/.cache/pip/wheels/68/ca/56/344d532fe53e855ccd6549795d370588ab8123907eecf4cf30\n",
            "Successfully built iMAP annoy umap-learn pynndescent sinfo\n",
            "Installing collected packages: stdlib-list, pynndescent, umap-learn, sinfo, anndata, scanpy, annoy, iMAP\n",
            "Successfully installed anndata-0.7.6 annoy-1.17.0 iMAP-1.0.0 pynndescent-0.5.5 scanpy-1.8.1 sinfo-0.3.4 stdlib-list-0.8.0 umap-learn-0.5.1\n"
          ]
        }
      ]
    },
    {
      "cell_type": "code",
      "metadata": {
        "colab": {
          "base_uri": "https://localhost:8080/"
        },
        "id": "4fyyRQnKVQv9",
        "outputId": "460e6547-3c32-4916-f0d6-9509edcdbe4c"
      },
      "source": [
        "!pip install scprep phate magic-impute mnnpy scanpy loompy bbknn"
      ],
      "execution_count": null,
      "outputs": [
        {
          "output_type": "stream",
          "name": "stdout",
          "text": [
            "Collecting scprep\n",
            "  Downloading scprep-1.1.0-py3-none-any.whl (104 kB)\n",
            "\u001b[K     |████████████████████████████████| 104 kB 7.5 MB/s \n",
            "\u001b[?25hCollecting phate\n",
            "  Downloading phate-1.0.7-py3-none-any.whl (23 kB)\n",
            "Collecting magic-impute\n",
            "  Downloading magic_impute-3.0.0-py3-none-any.whl (15 kB)\n",
            "Collecting mnnpy\n",
            "  Downloading mnnpy-0.1.9.5.tar.gz (117 kB)\n",
            "\u001b[K     |████████████████████████████████| 117 kB 34.7 MB/s \n",
            "\u001b[?25hRequirement already satisfied: scanpy in /usr/local/lib/python3.7/dist-packages (1.8.1)\n",
            "Collecting loompy\n",
            "  Downloading loompy-3.0.6.tar.gz (41 kB)\n",
            "\u001b[K     |████████████████████████████████| 41 kB 113 kB/s \n",
            "\u001b[?25hCollecting bbknn\n",
            "  Downloading bbknn-1.5.1-py3-none-any.whl (11 kB)\n",
            "Requirement already satisfied: scipy>=0.18.1 in /usr/local/lib/python3.7/dist-packages (from scprep) (1.4.1)\n",
            "Requirement already satisfied: scikit-learn>=0.19.1 in /usr/local/lib/python3.7/dist-packages (from scprep) (0.22.2.post1)\n",
            "Requirement already satisfied: numpy>=1.12.0 in /usr/local/lib/python3.7/dist-packages (from scprep) (1.19.5)\n",
            "Requirement already satisfied: decorator>=4.3.0 in /usr/local/lib/python3.7/dist-packages (from scprep) (4.4.2)\n",
            "Requirement already satisfied: packaging in /usr/local/lib/python3.7/dist-packages (from scprep) (21.0)\n",
            "Requirement already satisfied: pandas>=0.25 in /usr/local/lib/python3.7/dist-packages (from scprep) (1.1.5)\n",
            "Requirement already satisfied: pytz>=2017.2 in /usr/local/lib/python3.7/dist-packages (from pandas>=0.25->scprep) (2018.9)\n",
            "Requirement already satisfied: python-dateutil>=2.7.3 in /usr/local/lib/python3.7/dist-packages (from pandas>=0.25->scprep) (2.8.2)\n",
            "Requirement already satisfied: six>=1.5 in /usr/local/lib/python3.7/dist-packages (from python-dateutil>=2.7.3->pandas>=0.25->scprep) (1.15.0)\n",
            "Requirement already satisfied: joblib>=0.11 in /usr/local/lib/python3.7/dist-packages (from scikit-learn>=0.19.1->scprep) (1.0.1)\n",
            "Collecting graphtools>=1.3.1\n",
            "  Downloading graphtools-1.5.2-py3-none-any.whl (45 kB)\n",
            "\u001b[K     |████████████████████████████████| 45 kB 3.0 MB/s \n",
            "\u001b[?25hCollecting s-gd2>=1.5\n",
            "  Downloading s_gd2-1.8-cp37-cp37m-manylinux2010_x86_64.whl (416 kB)\n",
            "\u001b[K     |████████████████████████████████| 416 kB 46.2 MB/s \n",
            "\u001b[?25hRequirement already satisfied: future in /usr/local/lib/python3.7/dist-packages (from phate) (0.16.0)\n",
            "Collecting Deprecated\n",
            "  Downloading Deprecated-1.2.13-py2.py3-none-any.whl (9.6 kB)\n",
            "Requirement already satisfied: matplotlib>=3.0 in /usr/local/lib/python3.7/dist-packages (from phate) (3.2.2)\n",
            "Collecting tasklogger>=1.0\n",
            "  Downloading tasklogger-1.1.0-py3-none-any.whl (15 kB)\n",
            "Collecting pygsp>=0.5.1\n",
            "  Downloading PyGSP-0.5.1-py2.py3-none-any.whl (1.8 MB)\n",
            "\u001b[K     |████████████████████████████████| 1.8 MB 46.9 MB/s \n",
            "\u001b[?25hRequirement already satisfied: cycler>=0.10 in /usr/local/lib/python3.7/dist-packages (from matplotlib>=3.0->phate) (0.10.0)\n",
            "Requirement already satisfied: kiwisolver>=1.0.1 in /usr/local/lib/python3.7/dist-packages (from matplotlib>=3.0->phate) (1.3.2)\n",
            "Requirement already satisfied: pyparsing!=2.0.4,!=2.1.2,!=2.1.6,>=2.0.1 in /usr/local/lib/python3.7/dist-packages (from matplotlib>=3.0->phate) (2.4.7)\n",
            "Requirement already satisfied: anndata in /usr/local/lib/python3.7/dist-packages (from mnnpy) (0.7.6)\n",
            "Requirement already satisfied: numba in /usr/local/lib/python3.7/dist-packages (from mnnpy) (0.51.2)\n",
            "Requirement already satisfied: seaborn in /usr/local/lib/python3.7/dist-packages (from scanpy) (0.11.2)\n",
            "Requirement already satisfied: umap-learn>=0.3.10 in /usr/local/lib/python3.7/dist-packages (from scanpy) (0.5.1)\n",
            "Requirement already satisfied: importlib_metadata>=0.7 in /usr/local/lib/python3.7/dist-packages (from scanpy) (4.8.1)\n",
            "Requirement already satisfied: networkx>=2.3 in /usr/local/lib/python3.7/dist-packages (from scanpy) (2.6.3)\n",
            "Requirement already satisfied: statsmodels>=0.10.0rc2 in /usr/local/lib/python3.7/dist-packages (from scanpy) (0.10.2)\n",
            "Requirement already satisfied: natsort in /usr/local/lib/python3.7/dist-packages (from scanpy) (5.5.0)\n",
            "Requirement already satisfied: tqdm in /usr/local/lib/python3.7/dist-packages (from scanpy) (4.62.3)\n",
            "Requirement already satisfied: tables in /usr/local/lib/python3.7/dist-packages (from scanpy) (3.4.4)\n",
            "Requirement already satisfied: sinfo in /usr/local/lib/python3.7/dist-packages (from scanpy) (0.3.4)\n",
            "Requirement already satisfied: h5py>=2.10.0 in /usr/local/lib/python3.7/dist-packages (from scanpy) (3.1.0)\n",
            "Requirement already satisfied: patsy in /usr/local/lib/python3.7/dist-packages (from scanpy) (0.5.2)\n",
            "Requirement already satisfied: xlrd<2.0 in /usr/local/lib/python3.7/dist-packages (from anndata->mnnpy) (1.1.0)\n",
            "Requirement already satisfied: cached-property in /usr/local/lib/python3.7/dist-packages (from h5py>=2.10.0->scanpy) (1.5.2)\n",
            "Requirement already satisfied: typing-extensions>=3.6.4 in /usr/local/lib/python3.7/dist-packages (from importlib_metadata>=0.7->scanpy) (3.7.4.3)\n",
            "Requirement already satisfied: zipp>=0.5 in /usr/local/lib/python3.7/dist-packages (from importlib_metadata>=0.7->scanpy) (3.6.0)\n",
            "Requirement already satisfied: setuptools in /usr/local/lib/python3.7/dist-packages (from numba->mnnpy) (57.4.0)\n",
            "Requirement already satisfied: llvmlite<0.35,>=0.34.0.dev0 in /usr/local/lib/python3.7/dist-packages (from numba->mnnpy) (0.34.0)\n",
            "Requirement already satisfied: pynndescent>=0.5 in /usr/local/lib/python3.7/dist-packages (from umap-learn>=0.3.10->scanpy) (0.5.5)\n",
            "Requirement already satisfied: click in /usr/local/lib/python3.7/dist-packages (from loompy) (7.1.2)\n",
            "Collecting numpy-groupies\n",
            "  Downloading numpy_groupies-0.9.14.tar.gz (48 kB)\n",
            "\u001b[K     |████████████████████████████████| 48 kB 4.4 MB/s \n",
            "\u001b[?25hRequirement already satisfied: annoy in /usr/local/lib/python3.7/dist-packages (from bbknn) (1.17.0)\n",
            "Requirement already satisfied: Cython in /usr/local/lib/python3.7/dist-packages (from bbknn) (0.29.24)\n",
            "Requirement already satisfied: wrapt<2,>=1.10 in /usr/local/lib/python3.7/dist-packages (from Deprecated->phate) (1.12.1)\n",
            "Requirement already satisfied: stdlib-list in /usr/local/lib/python3.7/dist-packages (from sinfo->scanpy) (0.8.0)\n",
            "Requirement already satisfied: numexpr>=2.5.2 in /usr/local/lib/python3.7/dist-packages (from tables->scanpy) (2.7.3)\n",
            "Building wheels for collected packages: mnnpy, loompy, numpy-groupies\n",
            "  Building wheel for mnnpy (setup.py) ... \u001b[?25l\u001b[?25hdone\n",
            "  Created wheel for mnnpy: filename=mnnpy-0.1.9.5-cp37-cp37m-linux_x86_64.whl size=260893 sha256=6182506b274e5d77c7de436726da338e578235a53305ef2971d79a88ce0d182e\n",
            "  Stored in directory: /root/.cache/pip/wheels/85/9c/fe/1676d846782fe8d9ad37bda01f3b3f3c92f78afbef34acb6fe\n",
            "  Building wheel for loompy (setup.py) ... \u001b[?25l\u001b[?25hdone\n",
            "  Created wheel for loompy: filename=loompy-3.0.6-py3-none-any.whl size=47905 sha256=45ae1646b40f7dabbf3ebc0ccbdda977da73f9e601bbd5261b60880be23d9083\n",
            "  Stored in directory: /root/.cache/pip/wheels/aa/84/e5/38fa2e3b59faa40b027a12a0c2de64cd787a1cbf05725fb021\n",
            "  Building wheel for numpy-groupies (setup.py) ... \u001b[?25l\u001b[?25hdone\n",
            "  Created wheel for numpy-groupies: filename=numpy_groupies-0.9.14-py3-none-any.whl size=24115 sha256=8906689db112ffc714a08e8f33ba79f93792d45accba28fcc369224822a341d6\n",
            "  Stored in directory: /root/.cache/pip/wheels/e7/68/13/d9f5f7dd1a3aacf8e9c2c12c6e86cceed1c628f4ae60ff5b01\n",
            "Successfully built mnnpy loompy numpy-groupies\n",
            "Installing collected packages: Deprecated, tasklogger, pygsp, scprep, s-gd2, numpy-groupies, graphtools, phate, mnnpy, magic-impute, loompy, bbknn\n",
            "Successfully installed Deprecated-1.2.13 bbknn-1.5.1 graphtools-1.5.2 loompy-3.0.6 magic-impute-3.0.0 mnnpy-0.1.9.5 numpy-groupies-0.9.14 phate-1.0.7 pygsp-0.5.1 s-gd2-1.8 scprep-1.1.0 tasklogger-1.1.0\n"
          ]
        }
      ]
    },
    {
      "cell_type": "code",
      "metadata": {
        "colab": {
          "base_uri": "https://localhost:8080/"
        },
        "id": "ExZiZl1zVThe",
        "outputId": "832cc883-8d5a-449b-96f4-6cd5334a6bcf"
      },
      "source": [
        "!pip install scikit-misc leidenalg harmonypy"
      ],
      "execution_count": null,
      "outputs": [
        {
          "output_type": "stream",
          "name": "stdout",
          "text": [
            "Collecting scikit-misc\n",
            "  Downloading scikit_misc-0.1.4-cp37-cp37m-manylinux_2_5_x86_64.manylinux1_x86_64.whl (8.8 MB)\n",
            "\u001b[K     |████████████████████████████████| 8.8 MB 6.3 MB/s \n",
            "\u001b[?25hCollecting leidenalg\n",
            "  Downloading leidenalg-0.8.8-cp37-cp37m-manylinux2010_x86_64.whl (1.4 MB)\n",
            "\u001b[K     |████████████████████████████████| 1.4 MB 28.6 MB/s \n",
            "\u001b[?25hCollecting harmonypy\n",
            "  Downloading harmonypy-0.0.5-py3-none-any.whl (20 kB)\n",
            "Requirement already satisfied: numpy in /usr/local/lib/python3.7/dist-packages (from scikit-misc) (1.19.5)\n",
            "Collecting python-igraph>=0.9.0\n",
            "  Downloading python_igraph-0.9.7-cp37-cp37m-manylinux_2_12_x86_64.manylinux2010_x86_64.whl (3.2 MB)\n",
            "\u001b[K     |████████████████████████████████| 3.2 MB 38.0 MB/s \n",
            "\u001b[?25hCollecting texttable>=1.6.2\n",
            "  Downloading texttable-1.6.4-py2.py3-none-any.whl (10 kB)\n",
            "Requirement already satisfied: scipy in /usr/local/lib/python3.7/dist-packages (from harmonypy) (1.4.1)\n",
            "Requirement already satisfied: pandas in /usr/local/lib/python3.7/dist-packages (from harmonypy) (1.1.5)\n",
            "Requirement already satisfied: python-dateutil>=2.7.3 in /usr/local/lib/python3.7/dist-packages (from pandas->harmonypy) (2.8.2)\n",
            "Requirement already satisfied: pytz>=2017.2 in /usr/local/lib/python3.7/dist-packages (from pandas->harmonypy) (2018.9)\n",
            "Requirement already satisfied: six>=1.5 in /usr/local/lib/python3.7/dist-packages (from python-dateutil>=2.7.3->pandas->harmonypy) (1.15.0)\n",
            "Installing collected packages: texttable, python-igraph, scikit-misc, leidenalg, harmonypy\n",
            "Successfully installed harmonypy-0.0.5 leidenalg-0.8.8 python-igraph-0.9.7 scikit-misc-0.1.4 texttable-1.6.4\n"
          ]
        }
      ]
    },
    {
      "cell_type": "code",
      "metadata": {
        "colab": {
          "base_uri": "https://localhost:8080/",
          "height": 1000
        },
        "id": "uryalDuiVWaq",
        "outputId": "96b46e3f-31ed-427b-eb89-18240a013adb"
      },
      "source": [
        "pip install git+https://github.com/theislab/scib.git"
      ],
      "execution_count": null,
      "outputs": [
        {
          "output_type": "stream",
          "name": "stdout",
          "text": [
            "Collecting git+https://github.com/theislab/scib.git\n",
            "  Cloning https://github.com/theislab/scib.git to /tmp/pip-req-build-0pmn839r\n",
            "  Running command git clone -q https://github.com/theislab/scib.git /tmp/pip-req-build-0pmn839r\n",
            "Collecting numpy==1.18.1\n",
            "  Downloading numpy-1.18.1-cp37-cp37m-manylinux1_x86_64.whl (20.1 MB)\n",
            "\u001b[K     |████████████████████████████████| 20.1 MB 1.3 MB/s \n",
            "\u001b[?25hRequirement already satisfied: pandas in /usr/local/lib/python3.7/dist-packages (from scIB==0.1.1) (1.1.5)\n",
            "Requirement already satisfied: seaborn in /usr/local/lib/python3.7/dist-packages (from scIB==0.1.1) (0.11.2)\n",
            "Requirement already satisfied: matplotlib in /usr/local/lib/python3.7/dist-packages (from scIB==0.1.1) (3.2.2)\n",
            "Requirement already satisfied: numba in /usr/local/lib/python3.7/dist-packages (from scIB==0.1.1) (0.51.2)\n",
            "Requirement already satisfied: scanpy>=1.5 in /usr/local/lib/python3.7/dist-packages (from scIB==0.1.1) (1.8.1)\n",
            "Requirement already satisfied: anndata>=0.7.2 in /usr/local/lib/python3.7/dist-packages (from scIB==0.1.1) (0.7.6)\n",
            "Collecting h5py<3\n",
            "  Downloading h5py-2.10.0-cp37-cp37m-manylinux1_x86_64.whl (2.9 MB)\n",
            "\u001b[K     |████████████████████████████████| 2.9 MB 37.5 MB/s \n",
            "\u001b[?25hRequirement already satisfied: rpy2>=3 in /usr/local/lib/python3.7/dist-packages (from scIB==0.1.1) (3.4.5)\n",
            "Collecting anndata2ri\n",
            "  Downloading anndata2ri-1.0.6-py3-none-any.whl (24 kB)\n",
            "Requirement already satisfied: scipy in /usr/local/lib/python3.7/dist-packages (from scIB==0.1.1) (1.4.1)\n",
            "Requirement already satisfied: scikit-learn in /usr/local/lib/python3.7/dist-packages (from scIB==0.1.1) (0.22.2.post1)\n",
            "Requirement already satisfied: scikit-misc in /usr/local/lib/python3.7/dist-packages (from scIB==0.1.1) (0.1.4)\n",
            "Requirement already satisfied: loompy==3.0.6 in /usr/local/lib/python3.7/dist-packages (from scIB==0.1.1) (3.0.6)\n",
            "Collecting louvain\n",
            "  Downloading louvain-0.7.0-cp37-cp37m-manylinux2010_x86_64.whl (2.1 MB)\n",
            "\u001b[K     |████████████████████████████████| 2.1 MB 43.0 MB/s \n",
            "\u001b[?25hRequirement already satisfied: umap-learn in /usr/local/lib/python3.7/dist-packages (from scIB==0.1.1) (0.5.1)\n",
            "Requirement already satisfied: pydot in /usr/local/lib/python3.7/dist-packages (from scIB==0.1.1) (1.3.0)\n",
            "Requirement already satisfied: python-igraph in /usr/local/lib/python3.7/dist-packages (from scIB==0.1.1) (0.9.7)\n",
            "Requirement already satisfied: llvmlite in /usr/local/lib/python3.7/dist-packages (from scIB==0.1.1) (0.34.0)\n",
            "Collecting memory_profiler\n",
            "  Downloading memory_profiler-0.58.0.tar.gz (36 kB)\n",
            "Requirement already satisfied: click in /usr/local/lib/python3.7/dist-packages (from loompy==3.0.6->scIB==0.1.1) (7.1.2)\n",
            "Requirement already satisfied: numpy-groupies in /usr/local/lib/python3.7/dist-packages (from loompy==3.0.6->scIB==0.1.1) (0.9.14)\n",
            "Requirement already satisfied: setuptools in /usr/local/lib/python3.7/dist-packages (from loompy==3.0.6->scIB==0.1.1) (57.4.0)\n",
            "Requirement already satisfied: natsort in /usr/local/lib/python3.7/dist-packages (from anndata>=0.7.2->scIB==0.1.1) (5.5.0)\n",
            "Requirement already satisfied: xlrd<2.0 in /usr/local/lib/python3.7/dist-packages (from anndata>=0.7.2->scIB==0.1.1) (1.1.0)\n",
            "Requirement already satisfied: importlib_metadata>=0.7 in /usr/local/lib/python3.7/dist-packages (from anndata>=0.7.2->scIB==0.1.1) (4.8.1)\n",
            "Requirement already satisfied: packaging>=20 in /usr/local/lib/python3.7/dist-packages (from anndata>=0.7.2->scIB==0.1.1) (21.0)\n",
            "Requirement already satisfied: six in /usr/local/lib/python3.7/dist-packages (from h5py<3->scIB==0.1.1) (1.15.0)\n",
            "Requirement already satisfied: typing-extensions>=3.6.4 in /usr/local/lib/python3.7/dist-packages (from importlib_metadata>=0.7->anndata>=0.7.2->scIB==0.1.1) (3.7.4.3)\n",
            "Requirement already satisfied: zipp>=0.5 in /usr/local/lib/python3.7/dist-packages (from importlib_metadata>=0.7->anndata>=0.7.2->scIB==0.1.1) (3.6.0)\n",
            "Requirement already satisfied: pyparsing>=2.0.2 in /usr/local/lib/python3.7/dist-packages (from packaging>=20->anndata>=0.7.2->scIB==0.1.1) (2.4.7)\n",
            "Requirement already satisfied: pytz>=2017.2 in /usr/local/lib/python3.7/dist-packages (from pandas->scIB==0.1.1) (2018.9)\n",
            "Requirement already satisfied: python-dateutil>=2.7.3 in /usr/local/lib/python3.7/dist-packages (from pandas->scIB==0.1.1) (2.8.2)\n",
            "Requirement already satisfied: tzlocal in /usr/local/lib/python3.7/dist-packages (from rpy2>=3->scIB==0.1.1) (1.5.1)\n",
            "Requirement already satisfied: jinja2 in /usr/local/lib/python3.7/dist-packages (from rpy2>=3->scIB==0.1.1) (2.11.3)\n",
            "Requirement already satisfied: cffi>=1.10.0 in /usr/local/lib/python3.7/dist-packages (from rpy2>=3->scIB==0.1.1) (1.14.6)\n",
            "Requirement already satisfied: pycparser in /usr/local/lib/python3.7/dist-packages (from cffi>=1.10.0->rpy2>=3->scIB==0.1.1) (2.20)\n",
            "Requirement already satisfied: patsy in /usr/local/lib/python3.7/dist-packages (from scanpy>=1.5->scIB==0.1.1) (0.5.2)\n",
            "Requirement already satisfied: statsmodels>=0.10.0rc2 in /usr/local/lib/python3.7/dist-packages (from scanpy>=1.5->scIB==0.1.1) (0.10.2)\n",
            "Requirement already satisfied: joblib in /usr/local/lib/python3.7/dist-packages (from scanpy>=1.5->scIB==0.1.1) (1.0.1)\n",
            "Requirement already satisfied: sinfo in /usr/local/lib/python3.7/dist-packages (from scanpy>=1.5->scIB==0.1.1) (0.3.4)\n",
            "Requirement already satisfied: networkx>=2.3 in /usr/local/lib/python3.7/dist-packages (from scanpy>=1.5->scIB==0.1.1) (2.6.3)\n",
            "Requirement already satisfied: tqdm in /usr/local/lib/python3.7/dist-packages (from scanpy>=1.5->scIB==0.1.1) (4.62.3)\n",
            "Requirement already satisfied: tables in /usr/local/lib/python3.7/dist-packages (from scanpy>=1.5->scIB==0.1.1) (3.4.4)\n",
            "Requirement already satisfied: cycler>=0.10 in /usr/local/lib/python3.7/dist-packages (from matplotlib->scIB==0.1.1) (0.10.0)\n",
            "Requirement already satisfied: kiwisolver>=1.0.1 in /usr/local/lib/python3.7/dist-packages (from matplotlib->scIB==0.1.1) (1.3.2)\n",
            "Requirement already satisfied: pynndescent>=0.5 in /usr/local/lib/python3.7/dist-packages (from umap-learn->scIB==0.1.1) (0.5.5)\n",
            "Collecting get_version\n",
            "  Downloading get_version-3.5.3-py3-none-any.whl (18 kB)\n",
            "Collecting dunamai\n",
            "  Downloading dunamai-1.6.0-py3-none-any.whl (16 kB)\n",
            "Requirement already satisfied: MarkupSafe>=0.23 in /usr/local/lib/python3.7/dist-packages (from jinja2->rpy2>=3->scIB==0.1.1) (2.0.1)\n",
            "Requirement already satisfied: texttable>=1.6.2 in /usr/local/lib/python3.7/dist-packages (from python-igraph->scIB==0.1.1) (1.6.4)\n",
            "Requirement already satisfied: psutil in /usr/local/lib/python3.7/dist-packages (from memory_profiler->scIB==0.1.1) (5.4.8)\n",
            "Requirement already satisfied: stdlib-list in /usr/local/lib/python3.7/dist-packages (from sinfo->scanpy>=1.5->scIB==0.1.1) (0.8.0)\n",
            "Requirement already satisfied: numexpr>=2.5.2 in /usr/local/lib/python3.7/dist-packages (from tables->scanpy>=1.5->scIB==0.1.1) (2.7.3)\n",
            "Building wheels for collected packages: scIB, memory-profiler\n",
            "  Building wheel for scIB (setup.py) ... \u001b[?25l\u001b[?25hdone\n",
            "  Created wheel for scIB: filename=scIB-0.1.1-py3-none-any.whl size=63499 sha256=12a6f27671315ed756b35d64575610c23086a39bd5b5ef2cf4fba4be237c11f1\n",
            "  Stored in directory: /tmp/pip-ephem-wheel-cache-ote9n1vy/wheels/97/09/94/2c219e63e9d045b4c3449231e875635d4b5b807e868868a0ca\n",
            "  Building wheel for memory-profiler (setup.py) ... \u001b[?25l\u001b[?25hdone\n",
            "  Created wheel for memory-profiler: filename=memory_profiler-0.58.0-py3-none-any.whl size=30190 sha256=0984fa691bc56453cdfb2ff6e9300d1e71ccb5fe774de628b1f9865a95d3fad1\n",
            "  Stored in directory: /root/.cache/pip/wheels/56/19/d5/8cad06661aec65a04a0d6785b1a5ad035cb645b1772a4a0882\n",
            "Successfully built scIB memory-profiler\n",
            "Installing collected packages: numpy, h5py, dunamai, get-version, memory-profiler, louvain, anndata2ri, scIB\n",
            "  Attempting uninstall: numpy\n",
            "    Found existing installation: numpy 1.19.5\n",
            "    Uninstalling numpy-1.19.5:\n",
            "      Successfully uninstalled numpy-1.19.5\n",
            "  Attempting uninstall: h5py\n",
            "    Found existing installation: h5py 3.1.0\n",
            "    Uninstalling h5py-3.1.0:\n",
            "      Successfully uninstalled h5py-3.1.0\n",
            "\u001b[31mERROR: pip's dependency resolver does not currently take into account all the packages that are installed. This behaviour is the source of the following dependency conflicts.\n",
            "tensorflow 2.6.0 requires h5py~=3.1.0, but you have h5py 2.10.0 which is incompatible.\n",
            "tensorflow 2.6.0 requires numpy~=1.19.2, but you have numpy 1.18.1 which is incompatible.\n",
            "kapre 0.3.5 requires numpy>=1.18.5, but you have numpy 1.18.1 which is incompatible.\n",
            "datascience 0.10.6 requires folium==0.2.1, but you have folium 0.8.3 which is incompatible.\n",
            "albumentations 0.1.12 requires imgaug<0.2.7,>=0.2.5, but you have imgaug 0.2.9 which is incompatible.\u001b[0m\n",
            "Successfully installed anndata2ri-1.0.6 dunamai-1.6.0 get-version-3.5.3 h5py-2.10.0 louvain-0.7.0 memory-profiler-0.58.0 numpy-1.18.1 scIB-0.1.1\n"
          ]
        },
        {
          "output_type": "display_data",
          "data": {
            "application/vnd.colab-display-data+json": {
              "pip_warning": {
                "packages": [
                  "numpy"
                ]
              }
            }
          },
          "metadata": {}
        }
      ]
    },
    {
      "cell_type": "code",
      "metadata": {
        "colab": {
          "base_uri": "https://localhost:8080/"
        },
        "id": "Q-cTmG3CWV3f",
        "outputId": "c01ae5d4-a926-455c-e325-62015e7ce245"
      },
      "source": [
        "from collections import Counter\n",
        "import loompy\n",
        "import copy\n",
        "import scIB"
      ],
      "execution_count": null,
      "outputs": [
        {
          "output_type": "stream",
          "name": "stderr",
          "text": [
            "/usr/local/lib/python3.7/dist-packages/numba/np/ufunc/parallel.py:363: NumbaWarning: The TBB threading layer requires TBB version 2019.5 or later i.e., TBB_INTERFACE_VERSION >= 11005. Found TBB_INTERFACE_VERSION = 9107. The TBB threading layer is disabled.\n",
            "  warnings.warn(problem)\n"
          ]
        }
      ]
    },
    {
      "cell_type": "code",
      "metadata": {
        "id": "wAdz-yZmWV-e"
      },
      "source": [
        "import scprep\n",
        "import imap  #used for feature detected\n",
        "import numpy as np\n",
        "import pandas as pd\n",
        "import matplotlib.pyplot as plt\n",
        "import phate\n",
        "import graphtools as gt\n",
        "import magic\n",
        "import os\n",
        "import datetime\n",
        "import scanpy as sc\n",
        "from skmisc.loess import loess\n",
        "import sklearn.preprocessing as preprocessing\n",
        "\n",
        "import umap.umap_ as umap"
      ],
      "execution_count": null,
      "outputs": []
    },
    {
      "cell_type": "code",
      "metadata": {
        "id": "bRclGHlNWawP"
      },
      "source": [
        "import torch.autograd\n",
        "import torch.nn as nn\n",
        "from torch.autograd import Variable\n",
        "import torch.nn.functional as F\n",
        "from torchvision import transforms\n",
        "from torchvision import datasets\n",
        "import torch.utils.data as Data  #Data是用来批训练的模块\n",
        "from torchvision.utils import save_image\n",
        "import numpy as np\n",
        "import os\n",
        "import pandas as pd\n",
        "import torch.optim.lr_scheduler as lr_s "
      ],
      "execution_count": null,
      "outputs": []
    },
    {
      "cell_type": "code",
      "metadata": {
        "id": "H5pvqjWIsayl"
      },
      "source": [
        "from sklearn.decomposition import PCA"
      ],
      "execution_count": null,
      "outputs": []
    },
    {
      "cell_type": "code",
      "metadata": {
        "id": "BdUTS8lBszM6"
      },
      "source": [
        "def find_common_celltype_list(adata):\n",
        "  label_set = []\n",
        "  batch_set  = set(adata.obs['batch'])\n",
        "  for i in batch_set:\n",
        "    adata_sp = adata[adata.obs['batch'] == i]\n",
        "    label_set.append(set(adata_sp.obs['celltype']))\n",
        "  init = label_set[0]\n",
        "  for item in label_set:\n",
        "    init = init.intersection(item)\n",
        "  \n",
        "  resultlist=[]\n",
        "  for i in adata.obs['celltype']:\n",
        "    if i in init:\n",
        "      resultlist.append(True)\n",
        "    else:\n",
        "      resultlist.append(False)\n",
        "  return adata[resultlist]"
      ],
      "execution_count": null,
      "outputs": []
    },
    {
      "cell_type": "code",
      "metadata": {
        "id": "uHmaZkdrs8Ry"
      },
      "source": [
        "from sklearn.metrics import silhouette_score\n",
        "import random\n",
        "def silhouette_coeff_ASW(adata1,adata2, method_use='raw',save_dir='', save_fn='', percent_extract=0.8):\n",
        "    random.seed(0)\n",
        "    asw_fscore = []\n",
        "    asw_bn = []\n",
        "    asw_bn_sub = []\n",
        "    asw_ctn = [] \n",
        "    iters = []\n",
        "    for i in range(20):\n",
        "        iters.append('iteration_'+str(i+1))\n",
        "        rand_cidx_b = np.random.choice(adata1.obs_names, size=int(len(adata1.obs_names) * percent_extract), replace=False)\n",
        "        rand_cidx_c = np.random.choice(adata2.obs_names, size=int(len(adata2.obs_names) * percent_extract), replace=False)\n",
        "        print('nb extracted cells: ',len(rand_cidx_b))\n",
        "        adata_ext_b = adata1[rand_cidx_b,:]\n",
        "        adata_ext_c = adata2[rand_cidx_c,:]\n",
        "        pca_b = adata_ext_b.obsm['X_pca']\n",
        "        pca_c = adata_ext_c.obsm['X_pca']\n",
        "        asw_batch = silhouette_score(pca_b, adata_ext_b.obs['batch'])\n",
        "        asw_celltype = silhouette_score(pca_c, adata_ext_c.obs['celltype'])\n",
        "        min_val = -1\n",
        "        max_val = 1\n",
        "        asw_batch_norm = (asw_batch - min_val) / (max_val - min_val)\n",
        "        asw_celltype_norm = (asw_celltype - min_val) / (max_val - min_val)\n",
        "        \n",
        "        fscoreASW = (2 * (1 - asw_batch_norm)*(asw_celltype_norm))/(1 - asw_batch_norm + asw_celltype_norm)\n",
        "        asw_fscore.append(fscoreASW)\n",
        "        asw_bn.append(asw_batch_norm)\n",
        "        asw_bn_sub.append(1-asw_batch_norm)\n",
        "        asw_ctn.append(asw_celltype_norm)\n",
        "\n",
        "    df = pd.DataFrame({'asw_batch_norm':asw_bn, 'asw_batch_norm_sub': asw_bn_sub,\n",
        "                       'asw_celltype_norm': asw_ctn, 'fscore':asw_fscore,\n",
        "                       'method_use':np.repeat(method_use, len(asw_fscore))})\n",
        "    print(df.values.shape)\n",
        "    print(df.keys())\n",
        "    return df"
      ],
      "execution_count": null,
      "outputs": []
    },
    {
      "cell_type": "code",
      "metadata": {
        "id": "yjMdigtDwx8m"
      },
      "source": [
        "def silhouette_coeff_ASW_liger(adata1,adata2,method_use='raw',save_dir='', save_fn='', percent_extract=0.8):\n",
        "    random.seed(0)\n",
        "    asw_fscore = []\n",
        "    asw_bn = []\n",
        "    asw_bn_sub = []\n",
        "    asw_ctn = [] \n",
        "    iters = []\n",
        "    for i in range(20):\n",
        "        iters.append('iteration_'+str(i+1))\n",
        "        rand_cidx_b = np.random.choice(adata1.obs_names, size=int(len(adata1.obs_names) * percent_extract), replace=False)\n",
        "        rand_cidx_c = np.random.choice(adata2.obs_names, size=int(len(adata2.obs_names) * percent_extract), replace=False)\n",
        "        print('nb extracted cells: ',len(rand_cidx_b))\n",
        "        adata_ext_b = adata1[rand_cidx_b,:]\n",
        "        adata_ext_c = adata2[rand_cidx_c,:]\n",
        "        pca_b = adata_ext_b.X\n",
        "        pca_c = adata_ext_c.X\n",
        "        asw_batch = silhouette_score(pca_b, adata_ext_b.obs['batch'])\n",
        "        asw_celltype = silhouette_score(pca_c, adata_ext_c.obs['celltype'])\n",
        "        min_val = -1\n",
        "        max_val = 1\n",
        "        asw_batch_norm = (asw_batch - min_val) / (max_val - min_val)\n",
        "        asw_celltype_norm = (asw_celltype - min_val) / (max_val - min_val)\n",
        "        \n",
        "        fscoreASW = (2 * (1 - asw_batch_norm)*(asw_celltype_norm))/(1 - asw_batch_norm + asw_celltype_norm)\n",
        "        asw_fscore.append(fscoreASW)\n",
        "        asw_bn.append(asw_batch_norm)\n",
        "        asw_bn_sub.append(1-asw_batch_norm)\n",
        "        asw_ctn.append(asw_celltype_norm)\n",
        "\n",
        "    df = pd.DataFrame({'asw_batch_norm':asw_bn, 'asw_batch_norm_sub': asw_bn_sub,\n",
        "                       'asw_celltype_norm': asw_ctn, 'fscore':asw_fscore,\n",
        "                       'method_use':np.repeat(method_use, len(asw_fscore))})\n",
        "    print(df.values.shape)\n",
        "    print(df.keys())\n",
        "    return df"
      ],
      "execution_count": null,
      "outputs": []
    },
    {
      "cell_type": "code",
      "metadata": {
        "id": "erRM1TVyuBpp"
      },
      "source": [
        "import rpy2\n",
        "%load_ext rpy2.ipython"
      ],
      "execution_count": null,
      "outputs": []
    },
    {
      "cell_type": "code",
      "metadata": {
        "id": "uIydQ4lauNyK"
      },
      "source": [
        "import bbknn"
      ],
      "execution_count": null,
      "outputs": []
    },
    {
      "cell_type": "code",
      "metadata": {
        "id": "1n4ZgeLW7PiO"
      },
      "source": [
        "def preprocessing(adata):\n",
        "  sc.pp.filter_cells(adata,3)\n",
        "  sc.pp.filter_genes(adata,200)\n",
        "  sc.pp.normalize_per_cell(adata,1e4)\n",
        "  sc.pp.log1p(adata)\n",
        "  return adata"
      ],
      "execution_count": null,
      "outputs": []
    },
    {
      "cell_type": "code",
      "metadata": {
        "id": "O4npLmg0uH0s",
        "colab": {
          "base_uri": "https://localhost:8080/"
        },
        "outputId": "e381d18e-713a-4c9b-a5a9-a7fc4ec5b04c"
      },
      "source": [
        "%%R\n",
        "install.packages(\"devtools\")\n",
        "library(devtools)\n",
        "devtools::install_github(\"immunogenomics/lisi\")\n",
        "\n",
        "library(lisi)\n",
        "install_github('theislab/kBET')\n",
        "library(kBET)"
      ],
      "execution_count": null,
      "outputs": [
        {
          "output_type": "stream",
          "name": "stdout",
          "text": [
            "✔  checking for file ‘/tmp/Rtmpl5jT1U/remotes41156baa40/immunogenomics-LISI-a917556/DESCRIPTION’\n",
            "─  preparing ‘lisi’:\n",
            "✔  checking DESCRIPTION meta-information\n",
            "─  cleaning src\n",
            "─  checking for LF line-endings in source and make files and shell scripts\n",
            "─  checking for empty or unneeded directories\n",
            "─  building ‘lisi_1.0.tar.gz’\n",
            "   \n",
            "These packages have more recent versions available.\n",
            "It is recommended to update all of them.\n",
            "Which would you like to update?\n",
            "\n",
            "1: All                                \n",
            "2: CRAN packages only                 \n",
            "3: None                               \n",
            "4: pillar    (1.6.2  -> 1.6.3 ) [CRAN]\n",
            "5: lifecycle (1.0.0  -> 1.0.1 ) [CRAN]\n",
            "6: tibble    (3.1.4  -> 3.1.5 ) [CRAN]\n",
            "7: digest    (0.6.27 -> 0.6.28) [CRAN]\n",
            "\n",
            "Enter one or more numbers, or an empty line to skip updates: \n",
            "✔  checking for file ‘/tmp/Rtmpl5jT1U/remotes41f417923/theislab-kBET-4c9dafa/DESCRIPTION’\n",
            "─  preparing ‘kBET’:\n",
            "✔  checking DESCRIPTION meta-information\n",
            "─  checking for LF line-endings in source and make files and shell scripts\n",
            "─  checking for empty or unneeded directories\n",
            "   Omitted ‘LazyData’ from DESCRIPTION\n",
            "─  building ‘kBET_0.99.6.tar.gz’\n",
            "   \n"
          ]
        }
      ]
    },
    {
      "cell_type": "markdown",
      "metadata": {
        "id": "rGG-8BYCo1UR"
      },
      "source": [
        "# All methods except Liger"
      ]
    },
    {
      "cell_type": "code",
      "metadata": {
        "id": "UI4gEurAoyIZ"
      },
      "source": [
        "adata_old = sc.read_h5ad('/content/drive/Shareddrives/superchinece.HK(CRN.NGO)/A_pca_dimensiondata/DC_raw_pca.h5ad')\n",
        "adata_new = sc.read_h5ad('/content/drive/Shareddrives/superchinece.HK(CRN.NGO)/A_pca_dimensiondata/DC_raw_commonpca.h5ad')"
      ],
      "execution_count": null,
      "outputs": []
    },
    {
      "cell_type": "code",
      "metadata": {
        "colab": {
          "base_uri": "https://localhost:8080/",
          "height": 1000
        },
        "id": "74eCNNgMpxgy",
        "outputId": "f80345f7-bb79-4ca3-a901-d963eaf075cb"
      },
      "source": [
        "silhouette_coeff_ASW(adata_new, adata_old)"
      ],
      "execution_count": null,
      "outputs": [
        {
          "output_type": "stream",
          "name": "stdout",
          "text": [
            "nb extracted cells:  304\n",
            "nb extracted cells:  304\n",
            "nb extracted cells:  304\n",
            "nb extracted cells:  304\n",
            "nb extracted cells:  304\n",
            "nb extracted cells:  304\n",
            "nb extracted cells:  304\n",
            "nb extracted cells:  304\n",
            "nb extracted cells:  304\n",
            "nb extracted cells:  304\n",
            "nb extracted cells:  304\n",
            "nb extracted cells:  304\n",
            "nb extracted cells:  304\n",
            "nb extracted cells:  304\n",
            "nb extracted cells:  304\n",
            "nb extracted cells:  304\n",
            "nb extracted cells:  304\n",
            "nb extracted cells:  304\n",
            "nb extracted cells:  304\n",
            "nb extracted cells:  304\n",
            "(20, 5)\n",
            "Index(['asw_batch_norm', 'asw_batch_norm_sub', 'asw_celltype_norm', 'fscore',\n",
            "       'method_use'],\n",
            "      dtype='object')\n"
          ]
        },
        {
          "output_type": "execute_result",
          "data": {
            "text/html": [
              "<div>\n",
              "<style scoped>\n",
              "    .dataframe tbody tr th:only-of-type {\n",
              "        vertical-align: middle;\n",
              "    }\n",
              "\n",
              "    .dataframe tbody tr th {\n",
              "        vertical-align: top;\n",
              "    }\n",
              "\n",
              "    .dataframe thead th {\n",
              "        text-align: right;\n",
              "    }\n",
              "</style>\n",
              "<table border=\"1\" class=\"dataframe\">\n",
              "  <thead>\n",
              "    <tr style=\"text-align: right;\">\n",
              "      <th></th>\n",
              "      <th>asw_batch_norm</th>\n",
              "      <th>asw_batch_norm_sub</th>\n",
              "      <th>asw_celltype_norm</th>\n",
              "      <th>fscore</th>\n",
              "      <th>method_use</th>\n",
              "    </tr>\n",
              "  </thead>\n",
              "  <tbody>\n",
              "    <tr>\n",
              "      <th>0</th>\n",
              "      <td>0.557658</td>\n",
              "      <td>0.442342</td>\n",
              "      <td>0.701406</td>\n",
              "      <td>0.542534</td>\n",
              "      <td>raw</td>\n",
              "    </tr>\n",
              "    <tr>\n",
              "      <th>1</th>\n",
              "      <td>0.561718</td>\n",
              "      <td>0.438282</td>\n",
              "      <td>0.686920</td>\n",
              "      <td>0.535130</td>\n",
              "      <td>raw</td>\n",
              "    </tr>\n",
              "    <tr>\n",
              "      <th>2</th>\n",
              "      <td>0.559604</td>\n",
              "      <td>0.440396</td>\n",
              "      <td>0.697172</td>\n",
              "      <td>0.539804</td>\n",
              "      <td>raw</td>\n",
              "    </tr>\n",
              "    <tr>\n",
              "      <th>3</th>\n",
              "      <td>0.560097</td>\n",
              "      <td>0.439903</td>\n",
              "      <td>0.694907</td>\n",
              "      <td>0.538754</td>\n",
              "      <td>raw</td>\n",
              "    </tr>\n",
              "    <tr>\n",
              "      <th>4</th>\n",
              "      <td>0.559061</td>\n",
              "      <td>0.440939</td>\n",
              "      <td>0.696790</td>\n",
              "      <td>0.540097</td>\n",
              "      <td>raw</td>\n",
              "    </tr>\n",
              "    <tr>\n",
              "      <th>5</th>\n",
              "      <td>0.562018</td>\n",
              "      <td>0.437982</td>\n",
              "      <td>0.694070</td>\n",
              "      <td>0.537061</td>\n",
              "      <td>raw</td>\n",
              "    </tr>\n",
              "    <tr>\n",
              "      <th>6</th>\n",
              "      <td>0.559914</td>\n",
              "      <td>0.440086</td>\n",
              "      <td>0.693786</td>\n",
              "      <td>0.538554</td>\n",
              "      <td>raw</td>\n",
              "    </tr>\n",
              "    <tr>\n",
              "      <th>7</th>\n",
              "      <td>0.561961</td>\n",
              "      <td>0.438039</td>\n",
              "      <td>0.687544</td>\n",
              "      <td>0.535138</td>\n",
              "      <td>raw</td>\n",
              "    </tr>\n",
              "    <tr>\n",
              "      <th>8</th>\n",
              "      <td>0.559088</td>\n",
              "      <td>0.440912</td>\n",
              "      <td>0.688544</td>\n",
              "      <td>0.537582</td>\n",
              "      <td>raw</td>\n",
              "    </tr>\n",
              "    <tr>\n",
              "      <th>9</th>\n",
              "      <td>0.559716</td>\n",
              "      <td>0.440284</td>\n",
              "      <td>0.694525</td>\n",
              "      <td>0.538925</td>\n",
              "      <td>raw</td>\n",
              "    </tr>\n",
              "    <tr>\n",
              "      <th>10</th>\n",
              "      <td>0.558411</td>\n",
              "      <td>0.441589</td>\n",
              "      <td>0.689773</td>\n",
              "      <td>0.538459</td>\n",
              "      <td>raw</td>\n",
              "    </tr>\n",
              "    <tr>\n",
              "      <th>11</th>\n",
              "      <td>0.560986</td>\n",
              "      <td>0.439014</td>\n",
              "      <td>0.692190</td>\n",
              "      <td>0.537270</td>\n",
              "      <td>raw</td>\n",
              "    </tr>\n",
              "    <tr>\n",
              "      <th>12</th>\n",
              "      <td>0.559390</td>\n",
              "      <td>0.440610</td>\n",
              "      <td>0.687909</td>\n",
              "      <td>0.537164</td>\n",
              "      <td>raw</td>\n",
              "    </tr>\n",
              "    <tr>\n",
              "      <th>13</th>\n",
              "      <td>0.560973</td>\n",
              "      <td>0.439027</td>\n",
              "      <td>0.697260</td>\n",
              "      <td>0.538800</td>\n",
              "      <td>raw</td>\n",
              "    </tr>\n",
              "    <tr>\n",
              "      <th>14</th>\n",
              "      <td>0.560193</td>\n",
              "      <td>0.439807</td>\n",
              "      <td>0.698007</td>\n",
              "      <td>0.539611</td>\n",
              "      <td>raw</td>\n",
              "    </tr>\n",
              "    <tr>\n",
              "      <th>15</th>\n",
              "      <td>0.560683</td>\n",
              "      <td>0.439317</td>\n",
              "      <td>0.692712</td>\n",
              "      <td>0.537655</td>\n",
              "      <td>raw</td>\n",
              "    </tr>\n",
              "    <tr>\n",
              "      <th>16</th>\n",
              "      <td>0.559421</td>\n",
              "      <td>0.440579</td>\n",
              "      <td>0.690345</td>\n",
              "      <td>0.537882</td>\n",
              "      <td>raw</td>\n",
              "    </tr>\n",
              "    <tr>\n",
              "      <th>17</th>\n",
              "      <td>0.560513</td>\n",
              "      <td>0.439487</td>\n",
              "      <td>0.692706</td>\n",
              "      <td>0.537780</td>\n",
              "      <td>raw</td>\n",
              "    </tr>\n",
              "    <tr>\n",
              "      <th>18</th>\n",
              "      <td>0.560043</td>\n",
              "      <td>0.439957</td>\n",
              "      <td>0.690826</td>\n",
              "      <td>0.537564</td>\n",
              "      <td>raw</td>\n",
              "    </tr>\n",
              "    <tr>\n",
              "      <th>19</th>\n",
              "      <td>0.558681</td>\n",
              "      <td>0.441319</td>\n",
              "      <td>0.693671</td>\n",
              "      <td>0.539441</td>\n",
              "      <td>raw</td>\n",
              "    </tr>\n",
              "  </tbody>\n",
              "</table>\n",
              "</div>"
            ],
            "text/plain": [
              "    asw_batch_norm  asw_batch_norm_sub  asw_celltype_norm    fscore method_use\n",
              "0         0.557658            0.442342           0.701406  0.542534        raw\n",
              "1         0.561718            0.438282           0.686920  0.535130        raw\n",
              "2         0.559604            0.440396           0.697172  0.539804        raw\n",
              "3         0.560097            0.439903           0.694907  0.538754        raw\n",
              "4         0.559061            0.440939           0.696790  0.540097        raw\n",
              "5         0.562018            0.437982           0.694070  0.537061        raw\n",
              "6         0.559914            0.440086           0.693786  0.538554        raw\n",
              "7         0.561961            0.438039           0.687544  0.535138        raw\n",
              "8         0.559088            0.440912           0.688544  0.537582        raw\n",
              "9         0.559716            0.440284           0.694525  0.538925        raw\n",
              "10        0.558411            0.441589           0.689773  0.538459        raw\n",
              "11        0.560986            0.439014           0.692190  0.537270        raw\n",
              "12        0.559390            0.440610           0.687909  0.537164        raw\n",
              "13        0.560973            0.439027           0.697260  0.538800        raw\n",
              "14        0.560193            0.439807           0.698007  0.539611        raw\n",
              "15        0.560683            0.439317           0.692712  0.537655        raw\n",
              "16        0.559421            0.440579           0.690345  0.537882        raw\n",
              "17        0.560513            0.439487           0.692706  0.537780        raw\n",
              "18        0.560043            0.439957           0.690826  0.537564        raw\n",
              "19        0.558681            0.441319           0.693671  0.539441        raw"
            ]
          },
          "metadata": {},
          "execution_count": 49
        }
      ]
    },
    {
      "cell_type": "code",
      "metadata": {
        "id": "2565FcOjqlQB"
      },
      "source": [
        ""
      ],
      "execution_count": null,
      "outputs": []
    },
    {
      "cell_type": "code",
      "metadata": {
        "id": "tHQcbKcKvcmt"
      },
      "source": [
        "data_umap0 = adata_new.obsm['X_pca']\n",
        "label_1 = [adata_new.obs['batch'][0] for i in range(len(adata_new.X))]\n",
        "label_2 = list(adata_new.obs['batch'])\n",
        "labels = pd.DataFrame()\n",
        "labels['ref'] = label_1\n",
        "labels['bat'] = label_2"
      ],
      "execution_count": null,
      "outputs": []
    },
    {
      "cell_type": "code",
      "metadata": {
        "id": "9T0jo_Rmvcmt"
      },
      "source": [
        "%%R -i data_umap0 -i labels -o batch_estimate\n",
        "\n",
        "batch_estimate <- compute_lisi(data_umap0, labels, c('ref','bat'))"
      ],
      "execution_count": null,
      "outputs": []
    },
    {
      "cell_type": "code",
      "metadata": {
        "colab": {
          "base_uri": "https://localhost:8080/"
        },
        "id": "tQFOadHrvcmt",
        "outputId": "3cc481fe-5f24-48bf-e4f2-d2bf90bfdd40"
      },
      "source": [
        "print(np.mean(batch_estimate))"
      ],
      "execution_count": null,
      "outputs": [
        {
          "output_type": "stream",
          "name": "stdout",
          "text": [
            "ref    1.000000\n",
            "bat    1.076686\n",
            "dtype: float64\n"
          ]
        }
      ]
    },
    {
      "cell_type": "code",
      "metadata": {
        "colab": {
          "base_uri": "https://localhost:8080/"
        },
        "id": "7kTCK6qnvcmt",
        "outputId": "4e0312ab-21f2-4208-b9df-763cd89e2f5a"
      },
      "source": [
        "print(np.max(batch_estimate))\n",
        "print(np.min(batch_estimate))"
      ],
      "execution_count": null,
      "outputs": [
        {
          "output_type": "stream",
          "name": "stdout",
          "text": [
            "ref    1.000000\n",
            "bat    1.996356\n",
            "dtype: float64\n",
            "ref    1.00000\n",
            "bat    1.00003\n",
            "dtype: float64\n"
          ]
        }
      ]
    },
    {
      "cell_type": "code",
      "metadata": {
        "id": "doiFB36oGaWE"
      },
      "source": [
        ""
      ],
      "execution_count": null,
      "outputs": []
    },
    {
      "cell_type": "code",
      "metadata": {
        "id": "CqsRb1n-F-_b"
      },
      "source": [
        "data_umap1 = adata_old.obsm['X_pca']\n",
        "label_1 = [adata_old.obs['celltype'][0] for i in range(len(adata_old.X))]\n",
        "label_2 = list(adata_old.obs['celltype'])\n",
        "labels = pd.DataFrame()\n",
        "labels['ref'] = label_1\n",
        "labels['bat'] = label_2"
      ],
      "execution_count": null,
      "outputs": []
    },
    {
      "cell_type": "code",
      "metadata": {
        "id": "p8DQOwTUF-_c"
      },
      "source": [
        "%%R -i data_umap1 -i labels -o batch_estimate\n",
        "\n",
        "batch_estimate <- compute_lisi(data_umap1, labels, c('ref','bat'))"
      ],
      "execution_count": null,
      "outputs": []
    },
    {
      "cell_type": "code",
      "metadata": {
        "colab": {
          "base_uri": "https://localhost:8080/"
        },
        "id": "iPo-1wLtF-_c",
        "outputId": "34f68f43-81c9-4c30-cf27-71a032fdd314"
      },
      "source": [
        "print(np.mean(batch_estimate))"
      ],
      "execution_count": null,
      "outputs": [
        {
          "output_type": "stream",
          "name": "stdout",
          "text": [
            "ref    1.000000\n",
            "bat    1.113215\n",
            "dtype: float64\n"
          ]
        }
      ]
    },
    {
      "cell_type": "code",
      "metadata": {
        "colab": {
          "base_uri": "https://localhost:8080/"
        },
        "id": "IRNTnillF-_e",
        "outputId": "6017ef6e-60cd-48fe-f918-94a87712d9d4"
      },
      "source": [
        "print(np.max(batch_estimate))\n",
        "print(np.min(batch_estimate))"
      ],
      "execution_count": null,
      "outputs": [
        {
          "output_type": "stream",
          "name": "stdout",
          "text": [
            "ref    1.000000\n",
            "bat    3.799047\n",
            "dtype: float64\n",
            "ref    1.0\n",
            "bat    1.0\n",
            "dtype: float64\n"
          ]
        }
      ]
    },
    {
      "cell_type": "code",
      "metadata": {
        "id": "Ill9G9HFtW0l"
      },
      "source": [
        ""
      ],
      "execution_count": null,
      "outputs": []
    },
    {
      "cell_type": "code",
      "metadata": {
        "id": "I3GxQyzpTBmJ"
      },
      "source": [
        "new_data_1 = adata_new.obsm['X_pca']\n",
        "labels = []\n",
        "for i in adata_new.obs['batch']:\n",
        "  labels.append(i)\n",
        "labels = np.array(labels)\n",
        "labels = pd.DataFrame(labels)"
      ],
      "execution_count": null,
      "outputs": []
    },
    {
      "cell_type": "code",
      "metadata": {
        "colab": {
          "base_uri": "https://localhost:8080/",
          "height": 497
        },
        "id": "EIvQNlhkTBmJ",
        "outputId": "5d5f1e92-4fff-4d4a-d67d-088dedf9ff27"
      },
      "source": [
        "%%R -i new_data_1 -i labels -o batch_estimate\n",
        "\n",
        "batch_estimate <- kBET(new_data_1, labels[[1]])"
      ],
      "execution_count": null,
      "outputs": [
        {
          "output_type": "display_data",
          "data": {
            "image/png": "[encoded data removed]"
          },
          "metadata": {}
        }
      ]
    },
    {
      "cell_type": "code",
      "metadata": {
        "colab": {
          "base_uri": "https://localhost:8080/"
        },
        "id": "-f1RPmxYu0GJ",
        "outputId": "9e12de91-ba46-4aa9-9f6c-94c7645bbc18"
      },
      "source": [
        "for i in batch_estimate:\n",
        "  print(i)\n",
        "  break"
      ],
      "execution_count": null,
      "outputs": [
        {
          "output_type": "stream",
          "name": "stdout",
          "text": [
            "      kBET.expected kBET.observed kBET.signif\n",
            "mean    0.009473684     0.8655263           0\n",
            "2.5%    0.000000000     0.7756579           0\n",
            "50%     0.008771930     0.8684211           0\n",
            "97.5%   0.026315789     0.9473684           0\n",
            "\n"
          ]
        }
      ]
    },
    {
      "cell_type": "code",
      "metadata": {
        "id": "SIFswh6btj9S"
      },
      "source": [
        ""
      ],
      "execution_count": null,
      "outputs": []
    },
    {
      "cell_type": "code",
      "metadata": {
        "id": "wNHTVYistX6h"
      },
      "source": [
        "sc.pp.neighbors(adata_old)"
      ],
      "execution_count": null,
      "outputs": []
    },
    {
      "cell_type": "code",
      "metadata": {
        "colab": {
          "base_uri": "https://localhost:8080/"
        },
        "id": "LvAlDQc-tZ9k",
        "outputId": "a43af23c-2aea-4cd8-936d-8ce097e9dee3"
      },
      "source": [
        "scIB.metrics.graph_connectivity(adata_old,'celltype')"
      ],
      "execution_count": null,
      "outputs": [
        {
          "output_type": "execute_result",
          "data": {
            "text/plain": [
              "0.9815789473684211"
            ]
          },
          "metadata": {},
          "execution_count": 59
        }
      ]
    },
    {
      "cell_type": "code",
      "metadata": {
        "colab": {
          "base_uri": "https://localhost:8080/"
        },
        "id": "W8ODxSOqqET4",
        "outputId": "2c5a9fad-13e9-4f50-93b0-4db4d453088a"
      },
      "source": [
        "adata_old"
      ],
      "execution_count": null,
      "outputs": [
        {
          "output_type": "execute_result",
          "data": {
            "text/plain": [
              "AnnData object with n_obs × n_vars = 569 × 2000\n",
              "    obs: 'ClusterID', 'ClusterName', 'batch', 'celltype', 'nCount_RNA', 'nFeature_RNA', 'orig_ident'\n",
              "    var: 'Selected'\n",
              "    uns: 'pca'\n",
              "    obsm: 'X_pca'\n",
              "    varm: 'PCs'"
            ]
          },
          "metadata": {},
          "execution_count": 35
        }
      ]
    },
    {
      "cell_type": "code",
      "metadata": {
        "id": "LVSXeaecqET4"
      },
      "source": [
        "sc.pp.neighbors(adata_old, n_neighbors=15, n_pcs=0, method=\"umap\")"
      ],
      "execution_count": null,
      "outputs": []
    },
    {
      "cell_type": "code",
      "metadata": {
        "colab": {
          "base_uri": "https://localhost:8080/"
        },
        "id": "jFIgi7hiqET4",
        "outputId": "800d2156-75f6-4ee4-83df-4d6d47b66379"
      },
      "source": [
        "scIB.metrics.graph_connectivity(adata_old,'celltype')"
      ],
      "execution_count": null,
      "outputs": [
        {
          "output_type": "execute_result",
          "data": {
            "text/plain": [
              "0.975"
            ]
          },
          "metadata": {},
          "execution_count": 37
        }
      ]
    },
    {
      "cell_type": "markdown",
      "metadata": {
        "id": "V0Zw_hXnvKvI"
      },
      "source": [
        "# Liger"
      ]
    },
    {
      "cell_type": "code",
      "metadata": {
        "id": "C_9A-FqGvKvI"
      },
      "source": [
        "adata_old = sc.read_h5ad('/content/drive/Shareddrives/superchinece.HK(CRN.NGO)/A_pca_dimensiondata/DC_liger_pca.h5ad')\n",
        "adata_new = sc.read_h5ad('/content/drive/Shareddrives/superchinece.HK(CRN.NGO)/A_pca_dimensiondata/DC_liger_commonpca.h5ad')"
      ],
      "execution_count": null,
      "outputs": []
    },
    {
      "cell_type": "code",
      "metadata": {
        "colab": {
          "base_uri": "https://localhost:8080/",
          "height": 1000
        },
        "id": "RRAI8W9LvKvI",
        "outputId": "4c5c5acc-9b31-403c-9a9e-91fd8ab970ae"
      },
      "source": [
        "silhouette_coeff_ASW_liger(adata_new, adata_old)"
      ],
      "execution_count": null,
      "outputs": [
        {
          "output_type": "stream",
          "name": "stdout",
          "text": [
            "nb extracted cells:  304\n",
            "nb extracted cells:  304\n",
            "nb extracted cells:  304\n",
            "nb extracted cells:  304\n",
            "nb extracted cells:  304\n",
            "nb extracted cells:  304\n",
            "nb extracted cells:  304\n",
            "nb extracted cells:  304\n",
            "nb extracted cells:  304\n",
            "nb extracted cells:  304\n",
            "nb extracted cells:  304\n",
            "nb extracted cells:  304\n",
            "nb extracted cells:  304\n",
            "nb extracted cells:  304\n",
            "nb extracted cells:  304\n",
            "nb extracted cells:  304\n",
            "nb extracted cells:  304\n",
            "nb extracted cells:  304\n",
            "nb extracted cells:  304\n",
            "nb extracted cells:  304\n",
            "(20, 5)\n",
            "Index(['asw_batch_norm', 'asw_batch_norm_sub', 'asw_celltype_norm', 'fscore',\n",
            "       'method_use'],\n",
            "      dtype='object')\n"
          ]
        },
        {
          "output_type": "execute_result",
          "data": {
            "text/html": [
              "<div>\n",
              "<style scoped>\n",
              "    .dataframe tbody tr th:only-of-type {\n",
              "        vertical-align: middle;\n",
              "    }\n",
              "\n",
              "    .dataframe tbody tr th {\n",
              "        vertical-align: top;\n",
              "    }\n",
              "\n",
              "    .dataframe thead th {\n",
              "        text-align: right;\n",
              "    }\n",
              "</style>\n",
              "<table border=\"1\" class=\"dataframe\">\n",
              "  <thead>\n",
              "    <tr style=\"text-align: right;\">\n",
              "      <th></th>\n",
              "      <th>asw_batch_norm</th>\n",
              "      <th>asw_batch_norm_sub</th>\n",
              "      <th>asw_celltype_norm</th>\n",
              "      <th>fscore</th>\n",
              "      <th>method_use</th>\n",
              "    </tr>\n",
              "  </thead>\n",
              "  <tbody>\n",
              "    <tr>\n",
              "      <th>0</th>\n",
              "      <td>0.623294</td>\n",
              "      <td>0.376706</td>\n",
              "      <td>0.535895</td>\n",
              "      <td>0.442416</td>\n",
              "      <td>raw</td>\n",
              "    </tr>\n",
              "    <tr>\n",
              "      <th>1</th>\n",
              "      <td>0.617828</td>\n",
              "      <td>0.382172</td>\n",
              "      <td>0.546353</td>\n",
              "      <td>0.449747</td>\n",
              "      <td>raw</td>\n",
              "    </tr>\n",
              "    <tr>\n",
              "      <th>2</th>\n",
              "      <td>0.619387</td>\n",
              "      <td>0.380613</td>\n",
              "      <td>0.548221</td>\n",
              "      <td>0.449295</td>\n",
              "      <td>raw</td>\n",
              "    </tr>\n",
              "    <tr>\n",
              "      <th>3</th>\n",
              "      <td>0.625814</td>\n",
              "      <td>0.374186</td>\n",
              "      <td>0.545075</td>\n",
              "      <td>0.443746</td>\n",
              "      <td>raw</td>\n",
              "    </tr>\n",
              "    <tr>\n",
              "      <th>4</th>\n",
              "      <td>0.622482</td>\n",
              "      <td>0.377518</td>\n",
              "      <td>0.523704</td>\n",
              "      <td>0.438755</td>\n",
              "      <td>raw</td>\n",
              "    </tr>\n",
              "    <tr>\n",
              "      <th>5</th>\n",
              "      <td>0.623784</td>\n",
              "      <td>0.376216</td>\n",
              "      <td>0.558320</td>\n",
              "      <td>0.449526</td>\n",
              "      <td>raw</td>\n",
              "    </tr>\n",
              "    <tr>\n",
              "      <th>6</th>\n",
              "      <td>0.615129</td>\n",
              "      <td>0.384871</td>\n",
              "      <td>0.555111</td>\n",
              "      <td>0.454575</td>\n",
              "      <td>raw</td>\n",
              "    </tr>\n",
              "    <tr>\n",
              "      <th>7</th>\n",
              "      <td>0.620806</td>\n",
              "      <td>0.379194</td>\n",
              "      <td>0.548992</td>\n",
              "      <td>0.448562</td>\n",
              "      <td>raw</td>\n",
              "    </tr>\n",
              "    <tr>\n",
              "      <th>8</th>\n",
              "      <td>0.616691</td>\n",
              "      <td>0.383309</td>\n",
              "      <td>0.545716</td>\n",
              "      <td>0.450317</td>\n",
              "      <td>raw</td>\n",
              "    </tr>\n",
              "    <tr>\n",
              "      <th>9</th>\n",
              "      <td>0.623652</td>\n",
              "      <td>0.376348</td>\n",
              "      <td>0.544549</td>\n",
              "      <td>0.445087</td>\n",
              "      <td>raw</td>\n",
              "    </tr>\n",
              "    <tr>\n",
              "      <th>10</th>\n",
              "      <td>0.622285</td>\n",
              "      <td>0.377715</td>\n",
              "      <td>0.542960</td>\n",
              "      <td>0.445508</td>\n",
              "      <td>raw</td>\n",
              "    </tr>\n",
              "    <tr>\n",
              "      <th>11</th>\n",
              "      <td>0.622527</td>\n",
              "      <td>0.377473</td>\n",
              "      <td>0.545755</td>\n",
              "      <td>0.446277</td>\n",
              "      <td>raw</td>\n",
              "    </tr>\n",
              "    <tr>\n",
              "      <th>12</th>\n",
              "      <td>0.627131</td>\n",
              "      <td>0.372869</td>\n",
              "      <td>0.543827</td>\n",
              "      <td>0.442406</td>\n",
              "      <td>raw</td>\n",
              "    </tr>\n",
              "    <tr>\n",
              "      <th>13</th>\n",
              "      <td>0.625562</td>\n",
              "      <td>0.374438</td>\n",
              "      <td>0.543449</td>\n",
              "      <td>0.443384</td>\n",
              "      <td>raw</td>\n",
              "    </tr>\n",
              "    <tr>\n",
              "      <th>14</th>\n",
              "      <td>0.613732</td>\n",
              "      <td>0.386268</td>\n",
              "      <td>0.546591</td>\n",
              "      <td>0.452653</td>\n",
              "      <td>raw</td>\n",
              "    </tr>\n",
              "    <tr>\n",
              "      <th>15</th>\n",
              "      <td>0.627268</td>\n",
              "      <td>0.372732</td>\n",
              "      <td>0.540583</td>\n",
              "      <td>0.441234</td>\n",
              "      <td>raw</td>\n",
              "    </tr>\n",
              "    <tr>\n",
              "      <th>16</th>\n",
              "      <td>0.623859</td>\n",
              "      <td>0.376141</td>\n",
              "      <td>0.523186</td>\n",
              "      <td>0.437642</td>\n",
              "      <td>raw</td>\n",
              "    </tr>\n",
              "    <tr>\n",
              "      <th>17</th>\n",
              "      <td>0.623361</td>\n",
              "      <td>0.376639</td>\n",
              "      <td>0.548135</td>\n",
              "      <td>0.446485</td>\n",
              "      <td>raw</td>\n",
              "    </tr>\n",
              "    <tr>\n",
              "      <th>18</th>\n",
              "      <td>0.624612</td>\n",
              "      <td>0.375388</td>\n",
              "      <td>0.554766</td>\n",
              "      <td>0.447780</td>\n",
              "      <td>raw</td>\n",
              "    </tr>\n",
              "    <tr>\n",
              "      <th>19</th>\n",
              "      <td>0.622101</td>\n",
              "      <td>0.377899</td>\n",
              "      <td>0.552753</td>\n",
              "      <td>0.448900</td>\n",
              "      <td>raw</td>\n",
              "    </tr>\n",
              "  </tbody>\n",
              "</table>\n",
              "</div>"
            ],
            "text/plain": [
              "    asw_batch_norm  asw_batch_norm_sub  asw_celltype_norm    fscore method_use\n",
              "0         0.623294            0.376706           0.535895  0.442416        raw\n",
              "1         0.617828            0.382172           0.546353  0.449747        raw\n",
              "2         0.619387            0.380613           0.548221  0.449295        raw\n",
              "3         0.625814            0.374186           0.545075  0.443746        raw\n",
              "4         0.622482            0.377518           0.523704  0.438755        raw\n",
              "5         0.623784            0.376216           0.558320  0.449526        raw\n",
              "6         0.615129            0.384871           0.555111  0.454575        raw\n",
              "7         0.620806            0.379194           0.548992  0.448562        raw\n",
              "8         0.616691            0.383309           0.545716  0.450317        raw\n",
              "9         0.623652            0.376348           0.544549  0.445087        raw\n",
              "10        0.622285            0.377715           0.542960  0.445508        raw\n",
              "11        0.622527            0.377473           0.545755  0.446277        raw\n",
              "12        0.627131            0.372869           0.543827  0.442406        raw\n",
              "13        0.625562            0.374438           0.543449  0.443384        raw\n",
              "14        0.613732            0.386268           0.546591  0.452653        raw\n",
              "15        0.627268            0.372732           0.540583  0.441234        raw\n",
              "16        0.623859            0.376141           0.523186  0.437642        raw\n",
              "17        0.623361            0.376639           0.548135  0.446485        raw\n",
              "18        0.624612            0.375388           0.554766  0.447780        raw\n",
              "19        0.622101            0.377899           0.552753  0.448900        raw"
            ]
          },
          "metadata": {},
          "execution_count": 138
        }
      ]
    },
    {
      "cell_type": "code",
      "metadata": {
        "id": "MnOPOUgkvKvJ"
      },
      "source": [
        ""
      ],
      "execution_count": null,
      "outputs": []
    },
    {
      "cell_type": "code",
      "metadata": {
        "id": "NqNRbra5vKvJ"
      },
      "source": [
        "data_umap0 = adata_new.X\n",
        "label_1 = [adata_new.obs['batch'][0] for i in range(len(adata_new.X))]\n",
        "label_2 = list(adata_new.obs['batch'])\n",
        "labels = pd.DataFrame()\n",
        "labels['ref'] = label_1\n",
        "labels['bat'] = label_2"
      ],
      "execution_count": null,
      "outputs": []
    },
    {
      "cell_type": "code",
      "metadata": {
        "id": "sjdYB8KivKvJ"
      },
      "source": [
        "%%R -i data_umap0 -i labels -o batch_estimate\n",
        "\n",
        "batch_estimate <- compute_lisi(data_umap0, labels, c('ref','bat'))"
      ],
      "execution_count": null,
      "outputs": []
    },
    {
      "cell_type": "code",
      "metadata": {
        "colab": {
          "base_uri": "https://localhost:8080/"
        },
        "id": "6_ffwtqsvKvJ",
        "outputId": "ce3d8b54-5c26-4eb3-c22d-fa124381b1e9"
      },
      "source": [
        "print(np.mean(batch_estimate))"
      ],
      "execution_count": null,
      "outputs": [
        {
          "output_type": "stream",
          "name": "stdout",
          "text": [
            "ref    1.000000\n",
            "bat    1.101563\n",
            "dtype: float64\n"
          ]
        }
      ]
    },
    {
      "cell_type": "code",
      "metadata": {
        "colab": {
          "base_uri": "https://localhost:8080/"
        },
        "id": "HIMnhQWMvKvK",
        "outputId": "e7afdfc7-1714-424c-fc3f-1dd7dbd8f04a"
      },
      "source": [
        "print(np.max(batch_estimate))\n",
        "print(np.min(batch_estimate))"
      ],
      "execution_count": null,
      "outputs": [
        {
          "output_type": "stream",
          "name": "stdout",
          "text": [
            "ref    1.000000\n",
            "bat    1.999915\n",
            "dtype: float64\n",
            "ref    1.0\n",
            "bat    1.0\n",
            "dtype: float64\n"
          ]
        }
      ]
    },
    {
      "cell_type": "code",
      "metadata": {
        "id": "u8t797_9vKvK"
      },
      "source": [
        ""
      ],
      "execution_count": null,
      "outputs": []
    },
    {
      "cell_type": "code",
      "metadata": {
        "id": "ZppQT4P8vKvK"
      },
      "source": [
        "data_umap1 = adata_old.X\n",
        "label_1 = [adata_old.obs['celltype'][0] for i in range(len(adata_old.X))]\n",
        "label_2 = list(adata_old.obs['celltype'])\n",
        "labels = pd.DataFrame()\n",
        "labels['ref'] = label_1\n",
        "labels['bat'] = label_2"
      ],
      "execution_count": null,
      "outputs": []
    },
    {
      "cell_type": "code",
      "metadata": {
        "id": "3NWXNm6hvKvK"
      },
      "source": [
        "%%R -i data_umap1 -i labels -o batch_estimate\n",
        "\n",
        "batch_estimate <- compute_lisi(data_umap1, labels, c('ref','bat'))"
      ],
      "execution_count": null,
      "outputs": []
    },
    {
      "cell_type": "code",
      "metadata": {
        "colab": {
          "base_uri": "https://localhost:8080/"
        },
        "id": "ewqNotJvvKvK",
        "outputId": "6649e91f-91fe-4426-afd9-0abd89f3df54"
      },
      "source": [
        "print(np.mean(batch_estimate))"
      ],
      "execution_count": null,
      "outputs": [
        {
          "output_type": "stream",
          "name": "stdout",
          "text": [
            "ref    1.000000\n",
            "bat    1.480813\n",
            "dtype: float64\n"
          ]
        }
      ]
    },
    {
      "cell_type": "code",
      "metadata": {
        "colab": {
          "base_uri": "https://localhost:8080/"
        },
        "id": "I9gbZvq_vKvL",
        "outputId": "332d0ed4-a812-48ea-f789-ebadf86635e5"
      },
      "source": [
        "print(np.max(batch_estimate))\n",
        "print(np.min(batch_estimate))"
      ],
      "execution_count": null,
      "outputs": [
        {
          "output_type": "stream",
          "name": "stdout",
          "text": [
            "ref    1.000000\n",
            "bat    3.291687\n",
            "dtype: float64\n",
            "ref    1.0\n",
            "bat    1.0\n",
            "dtype: float64\n"
          ]
        }
      ]
    },
    {
      "cell_type": "code",
      "metadata": {
        "id": "bZlV9cf3vKvL"
      },
      "source": [
        ""
      ],
      "execution_count": null,
      "outputs": []
    },
    {
      "cell_type": "code",
      "metadata": {
        "id": "QARq-7n3vKvL"
      },
      "source": [
        "new_data_1 = adata_new.X\n",
        "labels = []\n",
        "for i in adata_new.obs['batch']:\n",
        "  labels.append(i)\n",
        "labels = np.array(labels)\n",
        "labels = pd.DataFrame(labels)"
      ],
      "execution_count": null,
      "outputs": []
    },
    {
      "cell_type": "code",
      "metadata": {
        "colab": {
          "base_uri": "https://localhost:8080/",
          "height": 497
        },
        "id": "BgTIw_YSvKvL",
        "outputId": "cb4a5cf0-0e6f-454f-9a76-0b1e77ddbc26"
      },
      "source": [
        "%%R -i new_data_1 -i labels -o batch_estimate\n",
        "\n",
        "batch_estimate <- kBET(new_data_1, labels[[1]])"
      ],
      "execution_count": null,
      "outputs": [
        {
          "output_type": "display_data",
          "data": {
            "image/png": "[encoded data removed]"
          },
          "metadata": {}
        }
      ]
    },
    {
      "cell_type": "code",
      "metadata": {
        "colab": {
          "base_uri": "https://localhost:8080/"
        },
        "id": "YRy2cAo_vKvL",
        "outputId": "9ce442b9-e22b-450a-f418-cff249bf3880"
      },
      "source": [
        "for i in batch_estimate:\n",
        "  print(i)\n",
        "  break"
      ],
      "execution_count": null,
      "outputs": [
        {
          "output_type": "stream",
          "name": "stdout",
          "text": [
            "      kBET.expected kBET.observed kBET.signif\n",
            "mean     0.03578947     0.9152632           0\n",
            "2.5%     0.00877193     0.8157895           0\n",
            "50%      0.03508772     0.9210526           0\n",
            "97.5%    0.07017544     0.9736842           0\n",
            "\n"
          ]
        }
      ]
    },
    {
      "cell_type": "code",
      "metadata": {
        "id": "QnQ_8M2ivKvL"
      },
      "source": [
        ""
      ],
      "execution_count": null,
      "outputs": []
    },
    {
      "cell_type": "code",
      "metadata": {
        "id": "BhJPizQqvKvM"
      },
      "source": [
        "sc.pp.neighbors(adata_old)"
      ],
      "execution_count": null,
      "outputs": []
    },
    {
      "cell_type": "code",
      "metadata": {
        "colab": {
          "base_uri": "https://localhost:8080/"
        },
        "id": "DNLocCqAvKvM",
        "outputId": "3bf837bc-4fab-42f5-fd63-d35f77359a95"
      },
      "source": [
        "scIB.metrics.graph_connectivity(adata_old,'celltype')"
      ],
      "execution_count": null,
      "outputs": [
        {
          "output_type": "execute_result",
          "data": {
            "text/plain": [
              "0.946976483762598"
            ]
          },
          "metadata": {},
          "execution_count": 153
        }
      ]
    }
  ]
}