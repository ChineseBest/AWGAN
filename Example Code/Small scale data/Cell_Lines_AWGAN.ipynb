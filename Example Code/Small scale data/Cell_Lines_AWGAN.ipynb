{
  "nbformat": 4,
  "nbformat_minor": 0,
  "metadata": {
    "colab": {
      "name": "Cell Lines AWGAN.ipynb",
      "provenance": [],
      "collapsed_sections": [],
      "toc_visible": true,
      "machine_shape": "hm"
    },
    "kernelspec": {
      "display_name": "Python 3",
      "name": "python3"
    },
    "language_info": {
      "name": "python"
    }
  },
  "cells": [
    {
      "cell_type": "markdown",
      "metadata": {
        "id": "rpqEeHVBE8o3"
      },
      "source": [
        "For this code, we set up a new WGAN model with gradient plenaty method. In data pre-training, we also provide new view."
      ]
    },
    {
      "cell_type": "code",
      "metadata": {
        "id": "i5IVrCipdVLr"
      },
      "source": [
        "!pip install iMAP"
      ],
      "execution_count": null,
      "outputs": []
    },
    {
      "cell_type": "code",
      "metadata": {
        "id": "PY2CPOJoVSDO"
      },
      "source": [
        "!pip install scprep phate magic-impute mnnpy scanpy loompy tbb"
      ],
      "execution_count": null,
      "outputs": []
    },
    {
      "cell_type": "code",
      "metadata": {
        "id": "p4vhZZ2IdazD"
      },
      "source": [
        "!pip install scikit-misc"
      ],
      "execution_count": null,
      "outputs": []
    },
    {
      "cell_type": "code",
      "metadata": {
        "id": "nB2GOt_Uu2az"
      },
      "source": [
        "!pip install leidenalg"
      ],
      "execution_count": null,
      "outputs": []
    },
    {
      "cell_type": "code",
      "metadata": {
        "id": "ArswLgf8BMVM"
      },
      "source": [
        "pip install git+https://github.com/theislab/scib.git"
      ],
      "execution_count": null,
      "outputs": []
    },
    {
      "cell_type": "code",
      "metadata": {
        "id": "MYr198DhA1RY"
      },
      "source": [
        "import loompy\n",
        "from numba import jit\n",
        "from collections import Counter"
      ],
      "execution_count": null,
      "outputs": []
    },
    {
      "cell_type": "code",
      "metadata": {
        "id": "rtM6t-i1Vx-R"
      },
      "source": [
        "import scprep\n",
        "import imap  #used for feature detected\n",
        "import numpy as np\n",
        "import pandas as pd\n",
        "import matplotlib.pyplot as plt\n",
        "import phate\n",
        "import graphtools as gt\n",
        "import magic\n",
        "import os\n",
        "import datetime\n",
        "import scanpy as sc\n",
        "from skmisc.loess import loess\n",
        "import sklearn.preprocessing as preprocessing"
      ],
      "execution_count": null,
      "outputs": []
    },
    {
      "cell_type": "code",
      "metadata": {
        "id": "pAIagaHtV3dl"
      },
      "source": [
        "import umap.umap_ as umap"
      ],
      "execution_count": null,
      "outputs": []
    },
    {
      "cell_type": "code",
      "metadata": {
        "id": "yJt2clLh2AxE"
      },
      "source": [
        "import torch.autograd\n",
        "import torch.nn as nn\n",
        "from torch.autograd import Variable\n",
        "import torch.nn.functional as F\n",
        "from torchvision import transforms\n",
        "from torchvision import datasets\n",
        "import torch.utils.data as Data  #Data是用来批训练的模块\n",
        "from torchvision.utils import save_image\n",
        "import numpy as np\n",
        "import os\n",
        "import pandas as pd\n",
        "import torch.optim.lr_scheduler as lr_s "
      ],
      "execution_count": null,
      "outputs": []
    },
    {
      "cell_type": "code",
      "metadata": {
        "id": "_ZwID6izBOsj"
      },
      "source": [
        "import rpy2\n",
        "%load_ext rpy2.ipython"
      ],
      "execution_count": null,
      "outputs": []
    },
    {
      "cell_type": "code",
      "metadata": {
        "id": "bfaFgc-sBYVO"
      },
      "source": [
        "import scIB\n",
        "from scipy.spatial.distance import cdist"
      ],
      "execution_count": null,
      "outputs": []
    },
    {
      "cell_type": "markdown",
      "metadata": {
        "id": "Lb5FzvqkYtbW"
      },
      "source": [
        "# Metrics before\n"
      ]
    },
    {
      "cell_type": "code",
      "metadata": {
        "id": "-bca7jOYHk50"
      },
      "source": [
        "%%R\n",
        "devtools::install_github('theislab/kBET')"
      ],
      "execution_count": null,
      "outputs": []
    },
    {
      "cell_type": "code",
      "metadata": {
        "id": "ttBuBb762Faq"
      },
      "source": [
        "adata = sc.read_loom('/content/drive/MyDrive/data/cell_lines.loom',sparse=False)"
      ],
      "execution_count": null,
      "outputs": []
    },
    {
      "cell_type": "code",
      "metadata": {
        "id": "Mf6798pXXm63"
      },
      "source": [
        "adata.obs['celltype']"
      ],
      "execution_count": null,
      "outputs": []
    },
    {
      "cell_type": "code",
      "metadata": {
        "id": "sKfpUwt5Qkuu"
      },
      "source": [
        "c = Counter(adata.obs['batch'])\n",
        "c = dict(c)"
      ],
      "execution_count": null,
      "outputs": []
    },
    {
      "cell_type": "code",
      "metadata": {
        "id": "BEAsWXkVQ9mr"
      },
      "source": [
        "c"
      ],
      "execution_count": null,
      "outputs": []
    },
    {
      "cell_type": "code",
      "metadata": {
        "id": "8rN3evIYcsLl"
      },
      "source": [
        "adata.var_names"
      ],
      "execution_count": null,
      "outputs": []
    },
    {
      "cell_type": "code",
      "metadata": {
        "id": "jCuvf1dTz29c"
      },
      "source": [
        "label = ['293t' for i in range(len(adata.X))]"
      ],
      "execution_count": null,
      "outputs": []
    },
    {
      "cell_type": "code",
      "metadata": {
        "id": "nrFb_6WyZ-5A"
      },
      "source": [
        "sc.pp.neighbors(adata)"
      ],
      "execution_count": null,
      "outputs": []
    },
    {
      "cell_type": "code",
      "metadata": {
        "id": "_Xg6RFKmaNTo"
      },
      "source": [
        "adata.obs['batch'] = adata.obs['batch'].astype('category')\n",
        "adata.obs['celltype'] = adata.obs['celltype'].astype('category')\n",
        "adata.obs['label'] = np.array(label)"
      ],
      "execution_count": null,
      "outputs": []
    },
    {
      "cell_type": "code",
      "metadata": {
        "id": "EFwIVISSaV2K"
      },
      "source": [
        "scIB.metrics.graph_connectivity(adata,'celltype') #Graph Conncectivity"
      ],
      "execution_count": null,
      "outputs": []
    },
    {
      "cell_type": "code",
      "metadata": {
        "id": "pJkzUGKmz-ai"
      },
      "source": [
        "data_umap = umap.UMAP().fit_transform(adata.X)"
      ],
      "execution_count": null,
      "outputs": []
    },
    {
      "cell_type": "code",
      "metadata": {
        "id": "x4JE6hYLz-aj"
      },
      "source": [
        "label_1 = [adata.obs['celltype'][0] for i in range(len(adata.X))]\n",
        "label_2 = list(adata.obs['celltype'])\n",
        "labels = pd.DataFrame()\n",
        "labels['ref'] = label_1\n",
        "labels['bat'] = label_2"
      ],
      "execution_count": null,
      "outputs": []
    },
    {
      "cell_type": "code",
      "metadata": {
        "id": "GcoOG64Hz-al"
      },
      "source": [
        "%%R -i data_umap -i labels -o batch_estimate\n",
        "\n",
        "install.packages(\"devtools\")\n",
        "devtools::install_github(\"immunogenomics/lisi\")\n",
        "\n",
        "library(lisi)\n",
        "\n",
        "batch_estimate <- compute_lisi(data_umap, labels, c('ref','bat'))"
      ],
      "execution_count": null,
      "outputs": []
    },
    {
      "cell_type": "code",
      "metadata": {
        "id": "ZZCc5q9kz-am"
      },
      "source": [
        "print(np.mean(batch_estimate))"
      ],
      "execution_count": null,
      "outputs": []
    },
    {
      "cell_type": "code",
      "metadata": {
        "id": "21oIk4Ve0RX6"
      },
      "source": [
        "print(np.max(batch_estimate))\n",
        "print(np.min(batch_estimate))"
      ],
      "execution_count": null,
      "outputs": []
    },
    {
      "cell_type": "code",
      "metadata": {
        "id": "TSzkV82JiOqF"
      },
      "source": [
        ""
      ],
      "execution_count": null,
      "outputs": []
    },
    {
      "cell_type": "code",
      "metadata": {
        "id": "8iBdGaY00Rhj"
      },
      "source": [
        "label_1 = [adata.obs['batch'][0] for i in range(len(adata.X))]\n",
        "label_2 = list(adata.obs['batch'])\n",
        "labels = pd.DataFrame()\n",
        "labels['ref'] = label_1\n",
        "labels['bat'] = label_2"
      ],
      "execution_count": null,
      "outputs": []
    },
    {
      "cell_type": "code",
      "metadata": {
        "id": "rP43cRJY0Rhk"
      },
      "source": [
        "%%R -i data_umap -i labels -o batch_estimate\n",
        "\n",
        "install.packages(\"devtools\")\n",
        "devtools::install_github(\"immunogenomics/lisi\")\n",
        "\n",
        "library(lisi)\n",
        "\n",
        "batch_estimate <- compute_lisi(data_umap, labels, c('ref','bat'))"
      ],
      "execution_count": null,
      "outputs": []
    },
    {
      "cell_type": "code",
      "metadata": {
        "id": "5FEBOKIq0aUp"
      },
      "source": [
        "print(np.mean(batch_estimate))"
      ],
      "execution_count": null,
      "outputs": []
    },
    {
      "cell_type": "code",
      "metadata": {
        "id": "BMYBCwTRalBi"
      },
      "source": [
        "print(np.max(batch_estimate))\n",
        "print(np.min(batch_estimate))"
      ],
      "execution_count": null,
      "outputs": []
    },
    {
      "cell_type": "code",
      "metadata": {
        "id": "WDvC7D9TWtM5"
      },
      "source": [
        ""
      ],
      "execution_count": null,
      "outputs": []
    },
    {
      "cell_type": "code",
      "metadata": {
        "id": "e5JQ7N0EzvcX"
      },
      "source": [
        "def F1_lisi(blisi,clisi):\n",
        "  min_val = 1\n",
        "  max_val = 2\n",
        "  blisi = (blisi - min_val) / (max_val - min_val)\n",
        "  clisi = (clisi - min_val) / (max_val - min_val)\n",
        "  return 2*np.abs(clisi-1)*blisi/(np.abs(clisi-1)+blisi)"
      ],
      "execution_count": null,
      "outputs": []
    },
    {
      "cell_type": "code",
      "metadata": {
        "id": "v93z4qY90g7h"
      },
      "source": [
        "F1_lisi(1.319,1.019)"
      ],
      "execution_count": null,
      "outputs": []
    },
    {
      "cell_type": "code",
      "metadata": {
        "id": "gsIsWWkFbEVN"
      },
      "source": [
        "scprep.plot.scatter2d(data_umap, c=adata.obs['batch'], figsize=(12,12), cmap=\"Spectral\",\n",
        "                      ticks=False, label_prefix=\"UMAP\", s = 30)"
      ],
      "execution_count": null,
      "outputs": []
    },
    {
      "cell_type": "code",
      "metadata": {
        "id": "4rzktdhXbFuN"
      },
      "source": [
        "scprep.plot.scatter2d(data_umap, c=adata.obs['celltype'], figsize=(12,12), cmap=\"Spectral\",\n",
        "                      ticks=False, label_prefix=\"UMAP\", s = 30)"
      ],
      "execution_count": null,
      "outputs": []
    },
    {
      "cell_type": "code",
      "metadata": {
        "id": "ErNvtLM4YTU4"
      },
      "source": [
        ""
      ],
      "execution_count": null,
      "outputs": []
    },
    {
      "cell_type": "code",
      "metadata": {
        "id": "bQTXCA7XYTXp"
      },
      "source": [
        ""
      ],
      "execution_count": null,
      "outputs": []
    },
    {
      "cell_type": "code",
      "metadata": {
        "id": "VhuIpgwNYTdj"
      },
      "source": [
        "import rpy2"
      ],
      "execution_count": null,
      "outputs": []
    },
    {
      "cell_type": "code",
      "metadata": {
        "id": "Nrqc4l-bYTdj"
      },
      "source": [
        "%load_ext rpy2.ipython"
      ],
      "execution_count": null,
      "outputs": []
    },
    {
      "cell_type": "code",
      "metadata": {
        "id": "_cN7h2w_YiWV"
      },
      "source": [
        "from sklearn.metrics import silhouette_score\n",
        "import random\n",
        "import numpy as np\n",
        "\n",
        "def silhouette_coeff_ASW(adata, method_use='raw',save_dir='', save_fn='', percent_extract=0.8):\n",
        "    random.seed(0)\n",
        "    asw_fscore = []\n",
        "    asw_bn = []\n",
        "    asw_bn_sub = []\n",
        "    asw_ctn = [] \n",
        "    iters = []\n",
        "    for i in range(20):\n",
        "        iters.append('iteration_'+str(i+1))\n",
        "        rand_cidx = np.random.choice(adata.obs_names, size=int(len(adata.obs_names) * percent_extract), replace=False)\n",
        "        print('nb extracted cells: ',len(rand_cidx))\n",
        "        adata_ext = adata[rand_cidx,:]\n",
        "        asw_batch = silhouette_score(adata_ext.X, adata_ext.obs['batch'])\n",
        "        asw_celltype = silhouette_score(adata_ext.X, adata_ext.obs['louvain'])\n",
        "        min_val = -1\n",
        "        max_val = 1\n",
        "        asw_batch_norm = (asw_batch - min_val) / (max_val - min_val)\n",
        "        asw_celltype_norm = (asw_celltype - min_val) / (max_val - min_val)\n",
        "        \n",
        "        fscoreASW = (2 * (1 - asw_batch_norm)*(asw_celltype_norm))/(1 - asw_batch_norm + asw_celltype_norm)\n",
        "        asw_fscore.append(fscoreASW)\n",
        "        asw_bn.append(asw_batch_norm)\n",
        "        asw_bn_sub.append(1-asw_batch_norm)\n",
        "        asw_ctn.append(asw_celltype_norm)\n",
        "    \n",
        "#     iters.append('median_value')\n",
        "#     asw_fscore.append(np.round(np.median(fscoreASW),3))\n",
        "#     asw_bn.append(np.round(np.median(asw_batch_norm),3))\n",
        "#     asw_bn_sub.append(np.round(1 - np.median(asw_batch_norm),3))\n",
        "#     asw_ctn.append(np.round(np.median(asw_celltype_norm),3))\n",
        "    df = pd.DataFrame({'asw_batch_norm':asw_bn, 'asw_batch_norm_sub': asw_bn_sub,\n",
        "                       'asw_celltype_norm': asw_ctn, 'fscore':asw_fscore,\n",
        "                       'method_use':np.repeat(method_use, len(asw_fscore))})\n",
        "    df.to_csv(save_dir + save_fn + '.csv')\n",
        "    print('Save output of pca in: ',save_dir)\n",
        "    print(df.values.shape)\n",
        "    print(df.keys())\n",
        "    return df"
      ],
      "execution_count": null,
      "outputs": []
    },
    {
      "cell_type": "code",
      "metadata": {
        "id": "WOXJjwuFYiWW"
      },
      "source": [
        "obs = pd.DataFrame()\n",
        "\n",
        "obs['batch'] = adata.obs['batch']\n",
        "obs['louvain'] = adata.obs['celltype']"
      ],
      "execution_count": null,
      "outputs": []
    },
    {
      "cell_type": "code",
      "metadata": {
        "id": "aAMM3hUZYiWW"
      },
      "source": [
        "funcdata = sc.AnnData(data, obs)\n",
        "silhouette_coeff_ASW(funcdata)"
      ],
      "execution_count": null,
      "outputs": []
    },
    {
      "cell_type": "code",
      "metadata": {
        "id": "mXWB5fyBYiWW"
      },
      "source": [
        "new_data_1 = data\n",
        "label = np.array(adata.obs['batch'])\n",
        "\n",
        "labels = []\n",
        "for i in adata.obs['batch']:\n",
        "  labels.append(i)\n",
        "labels = np.array(labels)\n",
        "labels = pd.DataFrame(labels)\n",
        "label = labels"
      ],
      "execution_count": null,
      "outputs": []
    },
    {
      "cell_type": "code",
      "metadata": {
        "id": "dhZOnjI_YoyK"
      },
      "source": [
        ""
      ],
      "execution_count": null,
      "outputs": []
    },
    {
      "cell_type": "code",
      "metadata": {
        "id": "l5Wa_PNyYWvq"
      },
      "source": [
        "new_data_1 = adata.X"
      ],
      "execution_count": null,
      "outputs": []
    },
    {
      "cell_type": "code",
      "metadata": {
        "id": "FEfdBwGtYTdk"
      },
      "source": [
        "%%R -i new_data_1 -i labels -o batch_estimate\n",
        "library(devtools)\n",
        "install_github('theislab/kBET')\n",
        "library(kBET)\n",
        "\n",
        "print(dim(new_data_1))\n",
        "print(dim(labels[1]))\n",
        "\n",
        "batch_estimate <- kBET(new_data_1, labels[[1]])"
      ],
      "execution_count": null,
      "outputs": []
    },
    {
      "cell_type": "code",
      "metadata": {
        "id": "ip2W0aUHYTdk"
      },
      "source": [
        "for i in batch_estimate:\n",
        "  print(i)"
      ],
      "execution_count": null,
      "outputs": []
    },
    {
      "cell_type": "markdown",
      "metadata": {
        "id": "OTMr3xeJUgzL"
      },
      "source": [
        "# Batch Sequencing AWGAN"
      ]
    },
    {
      "cell_type": "code",
      "metadata": {
        "id": "_cgr7gu0A_aI"
      },
      "source": [
        "adata = imap.stage1.data_preprocess(adata, 'batch')"
      ],
      "execution_count": null,
      "outputs": []
    },
    {
      "cell_type": "code",
      "metadata": {
        "id": "If6w_rmqU6qE"
      },
      "source": [
        "data_pre = pd.DataFrame(adata.X)"
      ],
      "execution_count": null,
      "outputs": []
    },
    {
      "cell_type": "code",
      "metadata": {
        "id": "1uAZWiUUU6qF"
      },
      "source": [
        "adata.X.shape"
      ],
      "execution_count": null,
      "outputs": []
    },
    {
      "cell_type": "code",
      "metadata": {
        "id": "O1sOaWAEU6qF"
      },
      "source": [
        "count_t = np.array([0,0,0])\n",
        "for i in adata.obs['batch']:\n",
        "  if i == 'Jurkat':\n",
        "    count_t[0]+=1\n",
        "  if i == '293t':\n",
        "    count_t[1] += 1\n",
        "  if i == 'Mix':\n",
        "    count_t[2] += 1"
      ],
      "execution_count": null,
      "outputs": []
    },
    {
      "cell_type": "code",
      "metadata": {
        "id": "HHQEAnDfU6qG"
      },
      "source": [
        "labels = ['Jurkat' for i in range(count_t[0])]+['293t' for i in range(count_t[1])]+['Mix' for i in range(count_t[2])]"
      ],
      "execution_count": null,
      "outputs": []
    },
    {
      "cell_type": "code",
      "metadata": {
        "id": "A2dKsMZ_U6qH"
      },
      "source": [
        "#calculate cos distence\n",
        "@jit(nopython=True)\n",
        "def pdist(vec1,vec2):\n",
        "  return vec1@vec2/(np.linalg.norm(vec1)*np.linalg.norm(vec2))\n",
        "#calculate correlation index\n",
        "@jit(nopython=True)\n",
        "def find_correlation_index(frame1, frame2):\n",
        "  result=[(1,1,1) for i in range(len(frame2))]\n",
        "  for i in range(len(frame2)):\n",
        "    distlist=[]\n",
        "    for j in range(len(frame1)):\n",
        "      dist = pdist(frame2[i],frame1[j])\n",
        "      distlist.append((i,j,dist))\n",
        "    distlist.sort(key=lambda x:x[2],reverse = True)\n",
        "    result[i] = distlist[0]\n",
        "  return result"
      ],
      "execution_count": null,
      "outputs": []
    },
    {
      "cell_type": "code",
      "execution_count": null,
      "metadata": {},
      "outputs": [],
      "source": [
        "# A new approach to get the index, what is faster based on our research.\n",
        "def find_correlation_index(frame1, frame2):\n",
        "  distlist =  cdist(frame2,frame1,metric='cosine')\n",
        "  result = np.argmin(distlist,axis=1)\n",
        "  result2 = []\n",
        "  for i in range(len(frame2)):\n",
        "    result2.append((i,result[i]))\n",
        "  return result2"
      ]
    },
    {
      "cell_type": "code",
      "metadata": {
        "id": "8Bg-1iAKVggY"
      },
      "source": [
        "def training_set_generator(frame1,frame2,ref,batch):\n",
        "  common_pair = find_correlation_index(frame1,frame2)\n",
        "  result = []\n",
        "  result1 = []\n",
        "  for i in common_pair:\n",
        "    result.append(ref[i[1],:])\n",
        "    result1.append(batch[i[0],:])\n",
        "  return np.array(result),np.array(result1)"
      ],
      "execution_count": null,
      "outputs": []
    },
    {
      "cell_type": "code",
      "metadata": {
        "id": "6UE3MzdJU6qJ"
      },
      "source": [
        "np.random.seed(999)\n",
        "torch.manual_seed(999)\n",
        "torch.cuda.manual_seed_all(999)"
      ],
      "execution_count": null,
      "outputs": []
    },
    {
      "cell_type": "code",
      "metadata": {
        "id": "z_8bBbuOU6qJ"
      },
      "source": [
        "class Mish(nn.Module):\n",
        "  def __init__(self):\n",
        "    super().__init__()\n",
        "\n",
        "  def forward(self,x):\n",
        "    return x*torch.tanh(F.softplus(x))"
      ],
      "execution_count": null,
      "outputs": []
    },
    {
      "cell_type": "code",
      "metadata": {
        "id": "PTDwNn-UU6qJ"
      },
      "source": [
        "#WGAN model, and it does not need to use bath normalization based on WGAN paper.\n",
        "class discriminator(nn.Module):\n",
        "    def __init__(self):\n",
        "        super(discriminator, self).__init__()\n",
        "        self.dis = nn.Sequential(\n",
        "            nn.Linear(2000, 1024),  \n",
        "            #nn.BatchNorm1d(1024),\n",
        "            Mish(),\n",
        "            nn.Linear(1024, 512),  \n",
        "            #nn.BatchNorm1d(512),\n",
        "            Mish(),\n",
        "            nn.Linear(512, 256),  \n",
        "            #nn.BatchNorm1d(256),\n",
        "            Mish(),\n",
        "            nn.Linear(256, 128),  \n",
        "            #nn.BatchNorm1d(128),\n",
        "            Mish(),\n",
        "            nn.Linear(128, 1)\n",
        "\n",
        "        )\n",
        "\n",
        "    def forward(self, x):\n",
        "        x = self.dis(x)\n",
        "        return x\n",
        " \n",
        " \n",
        "# WGAN generator\n",
        "# Require batch normalization\n",
        "class generator(nn.Module):\n",
        "    def __init__(self):\n",
        "        super(generator, self).__init__()\n",
        "        self.relu_f = nn.ReLU(True)\n",
        "        self.gen = nn.Sequential(\n",
        "            nn.Linear(2000, 1024),\n",
        "            nn.BatchNorm1d(1024),\n",
        "            Mish(),\n",
        "\n",
        "            nn.Linear(1024, 512),  \n",
        "            nn.BatchNorm1d(512),\n",
        "            Mish(),\n",
        "\n",
        "            nn.Linear(512, 256),  \n",
        "            nn.BatchNorm1d(256),\n",
        "            Mish(),\n",
        "\n",
        "            nn.Linear(256, 512),  \n",
        "            nn.BatchNorm1d(512),\n",
        "            Mish(),\n",
        "  \n",
        "\n",
        "            nn.Linear(512, 1024),  \n",
        "            nn.BatchNorm1d(1024),\n",
        "            Mish(),\n",
        "\n",
        "            nn.Linear(1024, 2000),\n",
        "            nn.Dropout(0.5)\n",
        "        )\n",
        "\n",
        "    def forward(self, x):\n",
        "        gre = self.gen(x)\n",
        "        return self.relu_f(gre+x)    #residual network\n",
        " "
      ],
      "execution_count": null,
      "outputs": []
    },
    {
      "cell_type": "code",
      "metadata": {
        "id": "O2OJ7tnnU6qJ"
      },
      "source": [
        "# calculate gradient penalty\n",
        "def calculate_gradient_penalty(real_data, fake_data, D): \n",
        "  eta = torch.FloatTensor(real_data.size(0),1).uniform_(0,1) \n",
        "  eta = eta.expand(real_data.size(0), real_data.size(1)) \n",
        "  cuda = True if torch.cuda.is_available() else False \n",
        "  if cuda: \n",
        "    eta = eta.cuda() \n",
        "  else: \n",
        "    eta = eta \n",
        "  interpolated = eta * real_data + ((1 - eta) * fake_data) \n",
        "  if cuda: \n",
        "    interpolated = interpolated.cuda() \n",
        "  else: \n",
        "    interpolated = interpolated \n",
        "   # define it to calculate gradient \n",
        "  interpolated = Variable(interpolated, requires_grad=True) \n",
        "   # calculate probability of interpolated examples \n",
        "  prob_interpolated = D(interpolated) \n",
        "  # calculate gradients of probabilities with respect to examples \n",
        "  gradients = torch.autograd.grad(outputs=prob_interpolated, inputs=interpolated, \n",
        "  grad_outputs=torch.ones( \n",
        "  prob_interpolated.size()).cuda() if cuda else torch.ones( \n",
        "  prob_interpolated.size()), \n",
        "  create_graph=True, retain_graph=True)[0] \n",
        "  grad_penalty = ((gradients.norm(2, dim=1) - 1) ** 2).mean() \n",
        "  return grad_penalty"
      ],
      "execution_count": null,
      "outputs": []
    },
    {
      "cell_type": "code",
      "metadata": {
        "id": "aIKlKSRigAT1"
      },
      "source": [
        "@jit(nopython = True)\n",
        "def determine_batch(val1):\n",
        "  val_list =[32,64,128,256]\n",
        "  for i in val_list:\n",
        "    if val1%i !=1:\n",
        "      return i\n",
        "    else:\n",
        "      continue\n",
        "  return val1"
      ],
      "execution_count": null,
      "outputs": []
    },
    {
      "cell_type": "code",
      "metadata": {
        "id": "6wIFjuFtZWAX"
      },
      "source": [
        "def WGAN_train(train_label,train_data,epoch,batch,lambda_1):\n",
        "  stop = 0\n",
        "  iter = 0\n",
        "  D = discriminator()\n",
        "  G = generator()\n",
        "\n",
        "  if torch.cuda.is_available():\n",
        "    D = D.cuda()\n",
        "    G = G.cuda()\n",
        "  lr=0.0001\n",
        "\n",
        "  d_optimizer = torch.optim.AdamW(D.parameters(), lr=lr)\n",
        "  g_optimizer = torch.optim.AdamW(G.parameters(), lr=lr)  \n",
        "\n",
        "  G.train()\n",
        "  D.train()\n",
        "\n",
        "  MAX_ITER = train_data.shape[0]\n",
        "  batch = determine_batch(MAX_ITER)\n",
        "\n",
        "  for epoch_1 in range(epoch):\n",
        "    print(\"This is \", epoch_1)\n",
        "    for time in range(0,MAX_ITER,batch):\n",
        "      true_data = torch.FloatTensor(train_label[time:time+batch,:]).cuda()\n",
        "      false_data = torch.FloatTensor(train_data[time:time+batch,:]).cuda()\n",
        "    \n",
        "\n",
        "      #train d at first\n",
        "\n",
        "      d_optimizer.zero_grad()\n",
        "\n",
        "      real_out = D(true_data)\n",
        "      real_label_loss = -torch.mean(real_out)\n",
        "\n",
        "\n",
        "      # train use WGAN\n",
        "\n",
        "      fake_out_new = G(false_data).detach()\n",
        "      fake_out = D(fake_out_new)\n",
        "\n",
        "      div = calculate_gradient_penalty(true_data, false_data, D)\n",
        "\n",
        "      label_loss = real_label_loss+torch.mean(fake_out)+div/lambda_1\n",
        "      label_loss.backward()\n",
        "\n",
        "\n",
        "      d_optimizer.step()\n",
        "\n",
        "  \n",
        "      #train G\n",
        "\n",
        "      real_out = G(false_data)\n",
        "      real_output = D(real_out)\n",
        "\n",
        "      real_loss1 = -torch.mean(real_output)\n",
        "\n",
        "      g_optimizer.zero_grad()\n",
        "\n",
        "      real_loss1.backward()\n",
        "      g_optimizer.step()\n",
        "      # scheduler_G.step()\n",
        "\n",
        "      if(time%100==0):\n",
        "        print(\"g step loss\",real_loss1)\n",
        "      iter += 1\n",
        "  print(\"Train step finished\")\n",
        "  G.eval()\n",
        "  test_data = torch.FloatTensor(train_data).cuda()\n",
        "  test_list = G(test_data).detach().cpu().numpy()    \n",
        "  return test_list,G"
      ],
      "execution_count": null,
      "outputs": []
    },
    {
      "cell_type": "code",
      "metadata": {
        "id": "pEjKHMl_xtzB"
      },
      "source": [
        "def sequencing_train(ref_adata, batch_adata, batch_inf, epoch=300, batch=32, lambda_1=1):\n",
        "  ref_data_ori = ref_adata.X\n",
        "  for bat_inf in batch_inf[1:]:\n",
        "    print(\"##########################Training%s#####################\"%(bat_inf))\n",
        "    batch_data_ori = batch_adata[batch_adata.obs['batch'] == bat_inf].X\n",
        "    label_data,train_data = training_set_generator(ref_data_ori, batch_data_ori, ref_data_ori, batch_data_ori)\n",
        "    print(\"#################Finish Pair finding##########################\")\n",
        "    remove_batch_data,G_tar = WGAN_train(label_data,train_data,epoch,batch,lambda_1)\n",
        "    ref_data_ori = np.vstack([ref_data_ori,remove_batch_data])\n",
        "  print(\"###################### Finish Training ###########################\")\n",
        "  return ref_data_ori, G_tar"
      ],
      "execution_count": null,
      "outputs": []
    },
    {
      "cell_type": "code",
      "metadata": {
        "id": "_ugtaQtca9jc"
      },
      "source": [
        "adata.obs['batch']"
      ],
      "execution_count": null,
      "outputs": []
    },
    {
      "cell_type": "code",
      "metadata": {
        "id": "G0440o1za2n1"
      },
      "source": [
        "ref_adata = adata[adata.obs['batch'] == adata.obs['batch'][0]]\n",
        "\n",
        "batch_adata = adata[adata.obs['batch'] != adata.obs['batch'][0]]\n"
      ],
      "execution_count": null,
      "outputs": []
    },
    {
      "cell_type": "code",
      "metadata": {
        "id": "9gj54LvKbVvR"
      },
      "source": [
        "c = dict(Counter(adata.obs['batch']))\n",
        "c_l=list(c.keys())"
      ],
      "execution_count": null,
      "outputs": []
    },
    {
      "cell_type": "code",
      "metadata": {
        "id": "XvVlVbRparBE"
      },
      "source": [
        "data,G_new = sequencing_train(ref_adata,batch_adata,batch_inf=c_l)"
      ],
      "execution_count": null,
      "outputs": []
    },
    {
      "cell_type": "code",
      "metadata": {
        "id": "Uskc9HtbMqtK"
      },
      "source": [
        "data"
      ],
      "execution_count": null,
      "outputs": []
    },
    {
      "cell_type": "code",
      "metadata": {
        "id": "lZq9mEtGU6qL"
      },
      "source": [
        "import umap.umap_ as umap"
      ],
      "execution_count": null,
      "outputs": []
    },
    {
      "cell_type": "code",
      "metadata": {
        "id": "eKpwNuLbU6qL"
      },
      "source": [
        "data_umap = umap.UMAP().fit_transform(data)"
      ],
      "execution_count": null,
      "outputs": []
    },
    {
      "cell_type": "code",
      "metadata": {
        "id": "GWlzt4tXU6qL"
      },
      "source": [
        "scprep.plot.scatter2d(data_umap, c=adata.obs['batch'], figsize=(12,12), cmap=\"Spectral\",\n",
        "                      ticks=False, label_prefix=\"UMAP\", s = 30)"
      ],
      "execution_count": null,
      "outputs": []
    },
    {
      "cell_type": "code",
      "metadata": {
        "id": "eHFnte1IU6qM"
      },
      "source": [
        "scprep.plot.scatter2d(data_umap, c=adata.obs['celltype'], figsize=(12,12), cmap=\"Spectral\",\n",
        "                      ticks=False, label_prefix=\"UMAP\", s = 30)"
      ],
      "execution_count": null,
      "outputs": []
    },
    {
      "cell_type": "code",
      "metadata": {
        "id": "1-H6J1bNcSlo"
      },
      "source": [
        "adata_new = sc.AnnData(data)\n",
        "adata_new.obs['batch'] = np.array(list(adata.obs['batch']))\n",
        "adata_new.obs['celltype'] = np.array(list(adata.obs['celltype']))\n",
        "adata_new.var_names = adata.var_names"
      ],
      "execution_count": null,
      "outputs": []
    },
    {
      "cell_type": "markdown",
      "metadata": {
        "id": "CWGuudayYJOt"
      },
      "source": [
        "# Metrics after"
      ]
    },
    {
      "cell_type": "code",
      "metadata": {
        "id": "WybDSXeUcY7I"
      },
      "source": [
        "from sklearn.metrics import silhouette_score\n",
        "import random\n",
        "import numpy as np\n",
        "\n",
        "def silhouette_coeff_ASW(adata, method_use='raw',save_dir='', save_fn='', percent_extract=0.8):\n",
        "    random.seed(0)\n",
        "    asw_fscore = []\n",
        "    asw_bn = []\n",
        "    asw_bn_sub = []\n",
        "    asw_ctn = [] \n",
        "    iters = []\n",
        "    for i in range(20):\n",
        "        iters.append('iteration_'+str(i+1))\n",
        "        rand_cidx = np.random.choice(adata.obs_names, size=int(len(adata.obs_names) * percent_extract), replace=False)\n",
        "        print('nb extracted cells: ',len(rand_cidx))\n",
        "        adata_ext = adata[rand_cidx,:]\n",
        "        asw_batch = silhouette_score(adata_ext.X, adata_ext.obs['batch'])\n",
        "        asw_celltype = silhouette_score(adata_ext.X, adata_ext.obs['louvain'])\n",
        "        min_val = -1\n",
        "        max_val = 1\n",
        "        asw_batch_norm = (asw_batch - min_val) / (max_val - min_val)\n",
        "        asw_celltype_norm = (asw_celltype - min_val) / (max_val - min_val)\n",
        "        \n",
        "        fscoreASW = (2 * (1 - asw_batch_norm)*(asw_celltype_norm))/(1 - asw_batch_norm + asw_celltype_norm)\n",
        "        asw_fscore.append(fscoreASW)\n",
        "        asw_bn.append(asw_batch_norm)\n",
        "        asw_bn_sub.append(1-asw_batch_norm)\n",
        "        asw_ctn.append(asw_celltype_norm)\n",
        "    \n",
        "#     iters.append('median_value')\n",
        "#     asw_fscore.append(np.round(np.median(fscoreASW),3))\n",
        "#     asw_bn.append(np.round(np.median(asw_batch_norm),3))\n",
        "#     asw_bn_sub.append(np.round(1 - np.median(asw_batch_norm),3))\n",
        "#     asw_ctn.append(np.round(np.median(asw_celltype_norm),3))\n",
        "    df = pd.DataFrame({'asw_batch_norm':asw_bn, 'asw_batch_norm_sub': asw_bn_sub,\n",
        "                       'asw_celltype_norm': asw_ctn, 'fscore':asw_fscore,\n",
        "                       'method_use':np.repeat(method_use, len(asw_fscore))})\n",
        "    df.to_csv(save_dir + save_fn + '.csv')\n",
        "    print('Save output of pca in: ',save_dir)\n",
        "    print(df.values.shape)\n",
        "    print(df.keys())\n",
        "    return df"
      ],
      "execution_count": null,
      "outputs": []
    },
    {
      "cell_type": "code",
      "metadata": {
        "id": "yAr9BL1ScY7I"
      },
      "source": [
        "obs = pd.DataFrame()\n",
        "\n",
        "obs['batch'] = adata.obs['batch']\n",
        "obs['louvain'] = adata.obs['celltype']"
      ],
      "execution_count": null,
      "outputs": []
    },
    {
      "cell_type": "code",
      "metadata": {
        "id": "Vs3SnWw9cY7J"
      },
      "source": [
        "funcdata = sc.AnnData(data, obs)\n",
        "silhouette_coeff_ASW(funcdata)"
      ],
      "execution_count": null,
      "outputs": []
    },
    {
      "cell_type": "code",
      "metadata": {
        "id": "2j0CHgJ5cY7J"
      },
      "source": [
        "new_data_1 = data\n",
        "label = np.array(adata.obs['batch'])\n",
        "\n",
        "labels = []\n",
        "for i in adata.obs['batch']:\n",
        "  labels.append(i)\n",
        "labels = np.array(labels)\n",
        "labels = pd.DataFrame(labels)\n",
        "label = labels"
      ],
      "execution_count": null,
      "outputs": []
    },
    {
      "cell_type": "code",
      "metadata": {
        "id": "giI9pna0xAN3"
      },
      "source": [
        ""
      ],
      "execution_count": null,
      "outputs": []
    },
    {
      "cell_type": "code",
      "metadata": {
        "id": "nRN3mSFhuiis"
      },
      "source": [
        "import rpy2"
      ],
      "execution_count": null,
      "outputs": []
    },
    {
      "cell_type": "code",
      "metadata": {
        "id": "FQmKS3bYukXp"
      },
      "source": [
        "%load_ext rpy2.ipython"
      ],
      "execution_count": null,
      "outputs": []
    },
    {
      "cell_type": "code",
      "metadata": {
        "id": "7V6kfiVMulas"
      },
      "source": [
        "%%R -i new_data_1 -i labels -o batch_estimate\n",
        "library(devtools)\n",
        "install_github('theislab/kBET')\n",
        "library(kBET)\n",
        "\n",
        "print(dim(new_data_1))\n",
        "print(dim(labels[1]))\n",
        "\n",
        "batch_estimate <- kBET(new_data_1, labels[[1]])"
      ],
      "execution_count": null,
      "outputs": []
    },
    {
      "cell_type": "code",
      "metadata": {
        "id": "6-r4ZWlyzpJP"
      },
      "source": [
        "for i in batch_estimate:\n",
        "  print(i)"
      ],
      "execution_count": null,
      "outputs": []
    },
    {
      "cell_type": "code",
      "metadata": {
        "id": "b5S5cCMyYCuC"
      },
      "source": [
        ""
      ],
      "execution_count": null,
      "outputs": []
    },
    {
      "cell_type": "code",
      "metadata": {
        "id": "I8IfpCAy7KPg"
      },
      "source": [
        "data_umap = umap.UMAP().fit_transform(data)"
      ],
      "execution_count": null,
      "outputs": []
    },
    {
      "cell_type": "code",
      "metadata": {
        "id": "9_2m1ATp7KPh"
      },
      "source": [
        "label_1 = ['Jurkat' for i in range(len(adata.X))]\n",
        "label_2 = list(adata.obs['celltype'])\n",
        "labels = pd.DataFrame()\n",
        "labels['ref'] = label_1\n",
        "labels['bat'] = label_2"
      ],
      "execution_count": null,
      "outputs": []
    },
    {
      "cell_type": "code",
      "metadata": {
        "id": "dCLABS6u7KPh"
      },
      "source": [
        "%%R -i data_umap -i labels -o batch_estimate\n",
        "\n",
        "install.packages(\"devtools\")\n",
        "devtools::install_github(\"immunogenomics/lisi\")\n",
        "\n",
        "library(lisi)\n",
        "\n",
        "batch_estimate <- compute_lisi(data_umap, labels, c('ref','bat'))"
      ],
      "execution_count": null,
      "outputs": []
    },
    {
      "cell_type": "code",
      "metadata": {
        "id": "49yyo1587KPh"
      },
      "source": [
        "print(np.mean(batch_estimate))"
      ],
      "execution_count": null,
      "outputs": []
    },
    {
      "cell_type": "code",
      "metadata": {
        "id": "Gr1vWWNh1qQ9"
      },
      "source": [
        "print(np.max(batch_estimate))\n",
        "print(np.min(batch_estimate))"
      ],
      "execution_count": null,
      "outputs": []
    },
    {
      "cell_type": "code",
      "metadata": {
        "id": "aiooKYI2k6Xs"
      },
      "source": [
        ""
      ],
      "execution_count": null,
      "outputs": []
    },
    {
      "cell_type": "code",
      "metadata": {
        "id": "NVUKube4k6jN"
      },
      "source": [
        ""
      ],
      "execution_count": null,
      "outputs": []
    },
    {
      "cell_type": "code",
      "metadata": {
        "id": "JYir484Hk8I3"
      },
      "source": [
        "label_1 = ['Jurkat' for i in range(len(adata.X))]\n",
        "label_2 = list(adata.obs['batch'])\n",
        "labels = pd.DataFrame()\n",
        "labels['ref'] = label_1\n",
        "labels['bat'] = label_2"
      ],
      "execution_count": null,
      "outputs": []
    },
    {
      "cell_type": "code",
      "metadata": {
        "id": "IwY8-8guk8I3"
      },
      "source": [
        "%%R -i data_umap -i labels -o batch_estimate\n",
        "\n",
        "install.packages(\"devtools\")\n",
        "devtools::install_github(\"immunogenomics/lisi\")\n",
        "\n",
        "library(lisi)\n",
        "\n",
        "batch_estimate <- compute_lisi(data_umap, labels, c('ref','bat'))"
      ],
      "execution_count": null,
      "outputs": []
    },
    {
      "cell_type": "code",
      "metadata": {
        "id": "WP0mkq8Jk8I4"
      },
      "source": [
        "print(np.mean(batch_estimate))"
      ],
      "execution_count": null,
      "outputs": []
    },
    {
      "cell_type": "code",
      "metadata": {
        "id": "HSK0r1xok8I4"
      },
      "source": [
        "print(np.max(batch_estimate))\n",
        "print(np.min(batch_estimate))"
      ],
      "execution_count": null,
      "outputs": []
    },
    {
      "cell_type": "code",
      "metadata": {
        "id": "q_ef2YGGZHaS"
      },
      "source": [
        "scIB.metrics.graph_connectivity(funcdata, 'louvain')"
      ],
      "execution_count": null,
      "outputs": []
    },
    {
      "cell_type": "code",
      "metadata": {
        "id": "50HvRWwyZIzU"
      },
      "source": [
        ""
      ],
      "execution_count": null,
      "outputs": []
    }
  ]
}