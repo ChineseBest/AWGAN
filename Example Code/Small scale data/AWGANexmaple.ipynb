{
  "nbformat": 4,
  "nbformat_minor": 0,
  "metadata": {
    "colab": {
      "name": "AWGANexmaple.ipynb",
      "provenance": [],
      "collapsed_sections": []
    },
    "kernelspec": {
      "name": "python3",
      "display_name": "Python 3"
    },
    "language_info": {
      "name": "python"
    },
    "accelerator": "GPU"
  },
  "cells": [
    {
      "cell_type": "markdown",
      "metadata": {
        "id": "kvBqksO2fRdz"
      },
      "source": [
        "Support GPU/CPU"
      ]
    },
    {
      "cell_type": "code",
      "metadata": {
        "id": "_cmAtplJ2Pty",
        "colab": {
          "base_uri": "https://localhost:8080/"
        },
        "outputId": "4cbb5097-24a3-46b5-a94b-4a9379b8d72f"
      },
      "source": [
        "!pip install scprep phate magic-impute mnnpy scanpy loompy tbb"
      ],
      "execution_count": 1,
      "outputs": [
        {
          "output_type": "stream",
          "name": "stdout",
          "text": [
            "Collecting scprep\n",
            "  Downloading scprep-1.1.0-py3-none-any.whl (104 kB)\n",
            "\u001b[K     |████████████████████████████████| 104 kB 7.8 MB/s \n",
            "\u001b[?25hCollecting phate\n",
            "  Downloading phate-1.0.7-py3-none-any.whl (23 kB)\n",
            "Collecting magic-impute\n",
            "  Downloading magic_impute-3.0.0-py3-none-any.whl (15 kB)\n",
            "Collecting mnnpy\n",
            "  Downloading mnnpy-0.1.9.5.tar.gz (117 kB)\n",
            "\u001b[K     |████████████████████████████████| 117 kB 56.6 MB/s \n",
            "\u001b[?25hCollecting scanpy\n",
            "  Downloading scanpy-1.8.2-py3-none-any.whl (2.0 MB)\n",
            "\u001b[K     |████████████████████████████████| 2.0 MB 55.0 MB/s \n",
            "\u001b[?25hCollecting loompy\n",
            "  Downloading loompy-3.0.6.tar.gz (41 kB)\n",
            "\u001b[K     |████████████████████████████████| 41 kB 138 kB/s \n",
            "\u001b[?25hCollecting tbb\n",
            "  Downloading tbb-2021.4.0-py2.py3-none-manylinux1_x86_64.whl (4.0 MB)\n",
            "\u001b[K     |████████████████████████████████| 4.0 MB 21.4 MB/s \n",
            "\u001b[?25hRequirement already satisfied: pandas>=0.25 in /usr/local/lib/python3.7/dist-packages (from scprep) (1.1.5)\n",
            "Requirement already satisfied: decorator>=4.3.0 in /usr/local/lib/python3.7/dist-packages (from scprep) (4.4.2)\n",
            "Requirement already satisfied: packaging in /usr/local/lib/python3.7/dist-packages (from scprep) (21.3)\n",
            "Requirement already satisfied: numpy>=1.12.0 in /usr/local/lib/python3.7/dist-packages (from scprep) (1.19.5)\n",
            "Requirement already satisfied: scikit-learn>=0.19.1 in /usr/local/lib/python3.7/dist-packages (from scprep) (1.0.1)\n",
            "Requirement already satisfied: scipy>=0.18.1 in /usr/local/lib/python3.7/dist-packages (from scprep) (1.4.1)\n",
            "Requirement already satisfied: python-dateutil>=2.7.3 in /usr/local/lib/python3.7/dist-packages (from pandas>=0.25->scprep) (2.8.2)\n",
            "Requirement already satisfied: pytz>=2017.2 in /usr/local/lib/python3.7/dist-packages (from pandas>=0.25->scprep) (2018.9)\n",
            "Requirement already satisfied: six>=1.5 in /usr/local/lib/python3.7/dist-packages (from python-dateutil>=2.7.3->pandas>=0.25->scprep) (1.15.0)\n",
            "Requirement already satisfied: threadpoolctl>=2.0.0 in /usr/local/lib/python3.7/dist-packages (from scikit-learn>=0.19.1->scprep) (3.0.0)\n",
            "Requirement already satisfied: joblib>=0.11 in /usr/local/lib/python3.7/dist-packages (from scikit-learn>=0.19.1->scprep) (1.1.0)\n",
            "Requirement already satisfied: future in /usr/local/lib/python3.7/dist-packages (from phate) (0.16.0)\n",
            "Collecting s-gd2>=1.5\n",
            "  Downloading s_gd2-1.8-cp37-cp37m-manylinux2010_x86_64.whl (416 kB)\n",
            "\u001b[K     |████████████████████████████████| 416 kB 68.5 MB/s \n",
            "\u001b[?25hCollecting graphtools>=1.3.1\n",
            "  Downloading graphtools-1.5.2-py3-none-any.whl (45 kB)\n",
            "\u001b[K     |████████████████████████████████| 45 kB 4.0 MB/s \n",
            "\u001b[?25hCollecting Deprecated\n",
            "  Downloading Deprecated-1.2.13-py2.py3-none-any.whl (9.6 kB)\n",
            "Requirement already satisfied: matplotlib>=3.0 in /usr/local/lib/python3.7/dist-packages (from phate) (3.2.2)\n",
            "Collecting tasklogger>=1.0\n",
            "  Downloading tasklogger-1.1.0-py3-none-any.whl (15 kB)\n",
            "Collecting pygsp>=0.5.1\n",
            "  Downloading PyGSP-0.5.1-py2.py3-none-any.whl (1.8 MB)\n",
            "\u001b[K     |████████████████████████████████| 1.8 MB 74.7 MB/s \n",
            "\u001b[?25hRequirement already satisfied: pyparsing!=2.0.4,!=2.1.2,!=2.1.6,>=2.0.1 in /usr/local/lib/python3.7/dist-packages (from matplotlib>=3.0->phate) (3.0.6)\n",
            "Requirement already satisfied: cycler>=0.10 in /usr/local/lib/python3.7/dist-packages (from matplotlib>=3.0->phate) (0.11.0)\n",
            "Requirement already satisfied: kiwisolver>=1.0.1 in /usr/local/lib/python3.7/dist-packages (from matplotlib>=3.0->phate) (1.3.2)\n",
            "Collecting anndata\n",
            "  Downloading anndata-0.7.8-py3-none-any.whl (91 kB)\n",
            "\u001b[K     |████████████████████████████████| 91 kB 12.7 MB/s \n",
            "\u001b[?25hRequirement already satisfied: numba in /usr/local/lib/python3.7/dist-packages (from mnnpy) (0.51.2)\n",
            "Requirement already satisfied: patsy in /usr/local/lib/python3.7/dist-packages (from scanpy) (0.5.2)\n",
            "Requirement already satisfied: natsort in /usr/local/lib/python3.7/dist-packages (from scanpy) (5.5.0)\n",
            "Requirement already satisfied: statsmodels>=0.10.0rc2 in /usr/local/lib/python3.7/dist-packages (from scanpy) (0.10.2)\n",
            "Requirement already satisfied: tqdm in /usr/local/lib/python3.7/dist-packages (from scanpy) (4.62.3)\n",
            "Collecting sinfo\n",
            "  Downloading sinfo-0.3.4.tar.gz (24 kB)\n",
            "Requirement already satisfied: importlib_metadata>=0.7 in /usr/local/lib/python3.7/dist-packages (from scanpy) (4.8.2)\n",
            "Requirement already satisfied: h5py>=2.10.0 in /usr/local/lib/python3.7/dist-packages (from scanpy) (3.1.0)\n",
            "Collecting umap-learn>=0.3.10\n",
            "  Downloading umap-learn-0.5.2.tar.gz (86 kB)\n",
            "\u001b[K     |████████████████████████████████| 86 kB 7.6 MB/s \n",
            "\u001b[?25hRequirement already satisfied: networkx>=2.3 in /usr/local/lib/python3.7/dist-packages (from scanpy) (2.6.3)\n",
            "Requirement already satisfied: tables in /usr/local/lib/python3.7/dist-packages (from scanpy) (3.4.4)\n",
            "Requirement already satisfied: seaborn in /usr/local/lib/python3.7/dist-packages (from scanpy) (0.11.2)\n",
            "Requirement already satisfied: xlrd<2.0 in /usr/local/lib/python3.7/dist-packages (from anndata->mnnpy) (1.1.0)\n",
            "Requirement already satisfied: cached-property in /usr/local/lib/python3.7/dist-packages (from h5py>=2.10.0->scanpy) (1.5.2)\n",
            "Requirement already satisfied: zipp>=0.5 in /usr/local/lib/python3.7/dist-packages (from importlib_metadata>=0.7->scanpy) (3.6.0)\n",
            "Requirement already satisfied: typing-extensions>=3.6.4 in /usr/local/lib/python3.7/dist-packages (from importlib_metadata>=0.7->scanpy) (3.10.0.2)\n",
            "Requirement already satisfied: llvmlite<0.35,>=0.34.0.dev0 in /usr/local/lib/python3.7/dist-packages (from numba->mnnpy) (0.34.0)\n",
            "Requirement already satisfied: setuptools in /usr/local/lib/python3.7/dist-packages (from numba->mnnpy) (57.4.0)\n",
            "Collecting pynndescent>=0.5\n",
            "  Downloading pynndescent-0.5.5.tar.gz (1.1 MB)\n",
            "\u001b[K     |████████████████████████████████| 1.1 MB 71.7 MB/s \n",
            "\u001b[?25hRequirement already satisfied: click in /usr/local/lib/python3.7/dist-packages (from loompy) (7.1.2)\n",
            "Collecting numpy-groupies\n",
            "  Downloading numpy_groupies-0.9.14.tar.gz (48 kB)\n",
            "\u001b[K     |████████████████████████████████| 48 kB 7.0 MB/s \n",
            "\u001b[?25hRequirement already satisfied: wrapt<2,>=1.10 in /usr/local/lib/python3.7/dist-packages (from Deprecated->phate) (1.13.3)\n",
            "Collecting stdlib_list\n",
            "  Downloading stdlib_list-0.8.0-py3-none-any.whl (63 kB)\n",
            "\u001b[K     |████████████████████████████████| 63 kB 2.5 MB/s \n",
            "\u001b[?25hRequirement already satisfied: numexpr>=2.5.2 in /usr/local/lib/python3.7/dist-packages (from tables->scanpy) (2.7.3)\n",
            "Building wheels for collected packages: mnnpy, umap-learn, pynndescent, loompy, numpy-groupies, sinfo\n",
            "  Building wheel for mnnpy (setup.py) ... \u001b[?25l\u001b[?25hdone\n",
            "  Created wheel for mnnpy: filename=mnnpy-0.1.9.5-cp37-cp37m-linux_x86_64.whl size=260889 sha256=82809af419a67a6a636d0bc810248c96dfd2d3827513db5f8e9ed26865234486\n",
            "  Stored in directory: /root/.cache/pip/wheels/85/9c/fe/1676d846782fe8d9ad37bda01f3b3f3c92f78afbef34acb6fe\n",
            "  Building wheel for umap-learn (setup.py) ... \u001b[?25l\u001b[?25hdone\n",
            "  Created wheel for umap-learn: filename=umap_learn-0.5.2-py3-none-any.whl size=82709 sha256=c2c93ab0824ed2c027822fac2c63da1e5bc7dabafd10a541894697f13849ac21\n",
            "  Stored in directory: /root/.cache/pip/wheels/84/1b/c6/aaf68a748122632967cef4dffef68224eb16798b6793257d82\n",
            "  Building wheel for pynndescent (setup.py) ... \u001b[?25l\u001b[?25hdone\n",
            "  Created wheel for pynndescent: filename=pynndescent-0.5.5-py3-none-any.whl size=52603 sha256=50653b4626dd55fa9b7b84067a842c981a016c18942e3a426927be283d686e5a\n",
            "  Stored in directory: /root/.cache/pip/wheels/af/e9/33/04db1436df0757c42fda8ea6796d7a8586e23c85fac355f476\n",
            "  Building wheel for loompy (setup.py) ... \u001b[?25l\u001b[?25hdone\n",
            "  Created wheel for loompy: filename=loompy-3.0.6-py3-none-any.whl size=47905 sha256=33c36a074b5b212f793a3cbb99bbca3d8166773555e393f3015c7522adf064a3\n",
            "  Stored in directory: /root/.cache/pip/wheels/aa/84/e5/38fa2e3b59faa40b027a12a0c2de64cd787a1cbf05725fb021\n",
            "  Building wheel for numpy-groupies (setup.py) ... \u001b[?25l\u001b[?25hdone\n",
            "  Created wheel for numpy-groupies: filename=numpy_groupies-0.9.14-py3-none-any.whl size=24115 sha256=b532d9c8c5f35116e31caf3e5d1ae08a5552bd70d9f6ec1ed1ce3f64e4a51e6f\n",
            "  Stored in directory: /root/.cache/pip/wheels/e7/68/13/d9f5f7dd1a3aacf8e9c2c12c6e86cceed1c628f4ae60ff5b01\n",
            "  Building wheel for sinfo (setup.py) ... \u001b[?25l\u001b[?25hdone\n",
            "  Created wheel for sinfo: filename=sinfo-0.3.4-py3-none-any.whl size=7899 sha256=5fb59970fbc0da81a8e66ee4545ef6948fdd13d2987f1a7d4ac497384ed0590e\n",
            "  Stored in directory: /root/.cache/pip/wheels/68/ca/56/344d532fe53e855ccd6549795d370588ab8123907eecf4cf30\n",
            "Successfully built mnnpy umap-learn pynndescent loompy numpy-groupies sinfo\n",
            "Installing collected packages: Deprecated, tasklogger, stdlib-list, pynndescent, pygsp, umap-learn, sinfo, scprep, s-gd2, numpy-groupies, graphtools, anndata, tbb, scanpy, phate, mnnpy, magic-impute, loompy\n",
            "Successfully installed Deprecated-1.2.13 anndata-0.7.8 graphtools-1.5.2 loompy-3.0.6 magic-impute-3.0.0 mnnpy-0.1.9.5 numpy-groupies-0.9.14 phate-1.0.7 pygsp-0.5.1 pynndescent-0.5.5 s-gd2-1.8 scanpy-1.8.2 scprep-1.1.0 sinfo-0.3.4 stdlib-list-0.8.0 tasklogger-1.1.0 tbb-2021.4.0 umap-learn-0.5.2\n"
          ]
        }
      ]
    },
    {
      "cell_type": "code",
      "metadata": {
        "colab": {
          "base_uri": "https://localhost:8080/"
        },
        "id": "dL1WPQW5W7Sz",
        "outputId": "5cec31a4-0321-4169-bbf6-e0227692fe6e"
      },
      "source": [
        "pip install awgan"
      ],
      "execution_count": 2,
      "outputs": [
        {
          "output_type": "stream",
          "name": "stdout",
          "text": [
            "Collecting awgan\n",
            "  Downloading awgan-0.0.9-py3-none-any.whl (5.5 kB)\n",
            "Requirement already satisfied: numba in /usr/local/lib/python3.7/dist-packages (from awgan) (0.51.2)\n",
            "Requirement already satisfied: graphtools in /usr/local/lib/python3.7/dist-packages (from awgan) (1.5.2)\n",
            "Requirement already satisfied: numpy in /usr/local/lib/python3.7/dist-packages (from awgan) (1.19.5)\n",
            "Collecting scikit-misc\n",
            "  Downloading scikit_misc-0.1.4-cp37-cp37m-manylinux_2_5_x86_64.manylinux1_x86_64.whl (8.8 MB)\n",
            "\u001b[K     |████████████████████████████████| 8.8 MB 7.2 MB/s \n",
            "\u001b[?25hRequirement already satisfied: scanpy in /usr/local/lib/python3.7/dist-packages (from awgan) (1.8.2)\n",
            "Requirement already satisfied: torch in /usr/local/lib/python3.7/dist-packages (from awgan) (1.10.0+cu111)\n",
            "Requirement already satisfied: tasklogger>=1.0 in /usr/local/lib/python3.7/dist-packages (from graphtools->awgan) (1.1.0)\n",
            "Requirement already satisfied: future in /usr/local/lib/python3.7/dist-packages (from graphtools->awgan) (0.16.0)\n",
            "Requirement already satisfied: pygsp>=0.5.1 in /usr/local/lib/python3.7/dist-packages (from graphtools->awgan) (0.5.1)\n",
            "Requirement already satisfied: scikit-learn>=0.20.0 in /usr/local/lib/python3.7/dist-packages (from graphtools->awgan) (1.0.1)\n",
            "Requirement already satisfied: scipy>=1.1.0 in /usr/local/lib/python3.7/dist-packages (from graphtools->awgan) (1.4.1)\n",
            "Requirement already satisfied: Deprecated in /usr/local/lib/python3.7/dist-packages (from graphtools->awgan) (1.2.13)\n",
            "Requirement already satisfied: threadpoolctl>=2.0.0 in /usr/local/lib/python3.7/dist-packages (from scikit-learn>=0.20.0->graphtools->awgan) (3.0.0)\n",
            "Requirement already satisfied: joblib>=0.11 in /usr/local/lib/python3.7/dist-packages (from scikit-learn>=0.20.0->graphtools->awgan) (1.1.0)\n",
            "Requirement already satisfied: wrapt<2,>=1.10 in /usr/local/lib/python3.7/dist-packages (from Deprecated->graphtools->awgan) (1.13.3)\n",
            "Requirement already satisfied: llvmlite<0.35,>=0.34.0.dev0 in /usr/local/lib/python3.7/dist-packages (from numba->awgan) (0.34.0)\n",
            "Requirement already satisfied: setuptools in /usr/local/lib/python3.7/dist-packages (from numba->awgan) (57.4.0)\n",
            "Requirement already satisfied: tables in /usr/local/lib/python3.7/dist-packages (from scanpy->awgan) (3.4.4)\n",
            "Requirement already satisfied: matplotlib>=3.1.2 in /usr/local/lib/python3.7/dist-packages (from scanpy->awgan) (3.2.2)\n",
            "Requirement already satisfied: statsmodels>=0.10.0rc2 in /usr/local/lib/python3.7/dist-packages (from scanpy->awgan) (0.10.2)\n",
            "Requirement already satisfied: tqdm in /usr/local/lib/python3.7/dist-packages (from scanpy->awgan) (4.62.3)\n",
            "Requirement already satisfied: umap-learn>=0.3.10 in /usr/local/lib/python3.7/dist-packages (from scanpy->awgan) (0.5.2)\n",
            "Requirement already satisfied: natsort in /usr/local/lib/python3.7/dist-packages (from scanpy->awgan) (5.5.0)\n",
            "Requirement already satisfied: patsy in /usr/local/lib/python3.7/dist-packages (from scanpy->awgan) (0.5.2)\n",
            "Requirement already satisfied: h5py>=2.10.0 in /usr/local/lib/python3.7/dist-packages (from scanpy->awgan) (3.1.0)\n",
            "Requirement already satisfied: networkx>=2.3 in /usr/local/lib/python3.7/dist-packages (from scanpy->awgan) (2.6.3)\n",
            "Requirement already satisfied: pandas>=0.21 in /usr/local/lib/python3.7/dist-packages (from scanpy->awgan) (1.1.5)\n",
            "Requirement already satisfied: anndata>=0.7.4 in /usr/local/lib/python3.7/dist-packages (from scanpy->awgan) (0.7.8)\n",
            "Requirement already satisfied: importlib_metadata>=0.7 in /usr/local/lib/python3.7/dist-packages (from scanpy->awgan) (4.8.2)\n",
            "Requirement already satisfied: seaborn in /usr/local/lib/python3.7/dist-packages (from scanpy->awgan) (0.11.2)\n",
            "Requirement already satisfied: sinfo in /usr/local/lib/python3.7/dist-packages (from scanpy->awgan) (0.3.4)\n",
            "Requirement already satisfied: packaging in /usr/local/lib/python3.7/dist-packages (from scanpy->awgan) (21.3)\n",
            "Requirement already satisfied: xlrd<2.0 in /usr/local/lib/python3.7/dist-packages (from anndata>=0.7.4->scanpy->awgan) (1.1.0)\n",
            "Requirement already satisfied: cached-property in /usr/local/lib/python3.7/dist-packages (from h5py>=2.10.0->scanpy->awgan) (1.5.2)\n",
            "Requirement already satisfied: typing-extensions>=3.6.4 in /usr/local/lib/python3.7/dist-packages (from importlib_metadata>=0.7->scanpy->awgan) (3.10.0.2)\n",
            "Requirement already satisfied: zipp>=0.5 in /usr/local/lib/python3.7/dist-packages (from importlib_metadata>=0.7->scanpy->awgan) (3.6.0)\n",
            "Requirement already satisfied: python-dateutil>=2.1 in /usr/local/lib/python3.7/dist-packages (from matplotlib>=3.1.2->scanpy->awgan) (2.8.2)\n",
            "Requirement already satisfied: cycler>=0.10 in /usr/local/lib/python3.7/dist-packages (from matplotlib>=3.1.2->scanpy->awgan) (0.11.0)\n",
            "Requirement already satisfied: pyparsing!=2.0.4,!=2.1.2,!=2.1.6,>=2.0.1 in /usr/local/lib/python3.7/dist-packages (from matplotlib>=3.1.2->scanpy->awgan) (3.0.6)\n",
            "Requirement already satisfied: kiwisolver>=1.0.1 in /usr/local/lib/python3.7/dist-packages (from matplotlib>=3.1.2->scanpy->awgan) (1.3.2)\n",
            "Requirement already satisfied: pytz>=2017.2 in /usr/local/lib/python3.7/dist-packages (from pandas>=0.21->scanpy->awgan) (2018.9)\n",
            "Requirement already satisfied: six>=1.5 in /usr/local/lib/python3.7/dist-packages (from python-dateutil>=2.1->matplotlib>=3.1.2->scanpy->awgan) (1.15.0)\n",
            "Requirement already satisfied: pynndescent>=0.5 in /usr/local/lib/python3.7/dist-packages (from umap-learn>=0.3.10->scanpy->awgan) (0.5.5)\n",
            "Requirement already satisfied: stdlib-list in /usr/local/lib/python3.7/dist-packages (from sinfo->scanpy->awgan) (0.8.0)\n",
            "Requirement already satisfied: numexpr>=2.5.2 in /usr/local/lib/python3.7/dist-packages (from tables->scanpy->awgan) (2.7.3)\n",
            "Installing collected packages: scikit-misc, awgan\n",
            "Successfully installed awgan-0.0.9 scikit-misc-0.1.4\n"
          ]
        }
      ]
    },
    {
      "cell_type": "code",
      "metadata": {
        "id": "0jtI-5PpW6fb"
      },
      "source": [
        "import awgan"
      ],
      "execution_count": 3,
      "outputs": []
    },
    {
      "cell_type": "markdown",
      "metadata": {
        "id": "P7wlQZRE2AjM"
      },
      "source": [
        "Please make sure you have GPUs in your computer to run our code"
      ]
    },
    {
      "cell_type": "code",
      "metadata": {
        "id": "VW1Yc9cd2yhJ"
      },
      "source": [
        "import scprep\n",
        "import numpy as np\n",
        "import pandas as pd\n",
        "import graphtools as gt\n",
        "import os\n",
        "import datetime\n",
        "import scanpy as sc\n",
        "from skmisc.loess import loess\n",
        "import sklearn.preprocessing as preprocessing"
      ],
      "execution_count": 4,
      "outputs": []
    },
    {
      "cell_type": "code",
      "metadata": {
        "id": "Yq0xNfS_5gmj"
      },
      "source": [
        "import torch.autograd\n",
        "import torch.nn as nn\n",
        "from torch.autograd import Variable\n",
        "import torch.nn.functional as F\n",
        "from torchvision import transforms\n",
        "from torchvision import datasets\n",
        "import torch.utils.data as Data  #Data是用来批训练的模块\n",
        "from torchvision.utils import save_image\n",
        "import numpy as np\n",
        "import os\n",
        "import pandas as pd\n",
        "import torch.optim.lr_scheduler as lr_s "
      ],
      "execution_count": 5,
      "outputs": []
    },
    {
      "cell_type": "code",
      "metadata": {
        "id": "T-5f-MvEeaHO"
      },
      "source": [
        "from collections import Counter"
      ],
      "execution_count": 6,
      "outputs": []
    },
    {
      "cell_type": "code",
      "metadata": {
        "id": "CcQbnTMg2bf6",
        "colab": {
          "base_uri": "https://localhost:8080/"
        },
        "outputId": "dbbc488c-3c50-4e7e-b3aa-0b5c0999074c"
      },
      "source": [
        "adata = sc.read_loom('/content/drive/MyDrive/data/DC.loom', sparse=False)\n",
        "# scanpy.pp.highly_variable_genes` with `flavor='seurat_v3'` expects raw count data.\n",
        "adata.X = np.float32(np.int32(adata.X))\n",
        "adata = awgan.preprocessing.data_preprocess(adata)"
      ],
      "execution_count": 7,
      "outputs": [
        {
          "output_type": "stream",
          "name": "stderr",
          "text": [
            "/usr/local/lib/python3.7/dist-packages/numba/np/ufunc/parallel.py:363: NumbaWarning: The TBB threading layer requires TBB version 2019.5 or later i.e., TBB_INTERFACE_VERSION >= 11005. Found TBB_INTERFACE_VERSION = 9107. The TBB threading layer is disabled.\n",
            "  warnings.warn(problem)\n"
          ]
        },
        {
          "output_type": "stream",
          "name": "stdout",
          "text": [
            "Establishing Adata for Next Step...\n",
            "PreProcess Done.\n"
          ]
        }
      ]
    },
    {
      "cell_type": "code",
      "metadata": {
        "id": "-04Za4ald-SO"
      },
      "source": [
        "c = Counter(adata.obs['batch'])"
      ],
      "execution_count": 8,
      "outputs": []
    },
    {
      "cell_type": "code",
      "metadata": {
        "id": "EywiQ7TVeBty"
      },
      "source": [
        "c_keys = list(c.keys())"
      ],
      "execution_count": 9,
      "outputs": []
    },
    {
      "cell_type": "code",
      "metadata": {
        "colab": {
          "base_uri": "https://localhost:8080/"
        },
        "id": "cNYTQcZHeiIq",
        "outputId": "bb14687a-794a-47cc-aec9-67cb6edaf5c1"
      },
      "source": [
        "c_keys"
      ],
      "execution_count": 10,
      "outputs": [
        {
          "output_type": "execute_result",
          "data": {
            "text/plain": [
              "['Batch1', 'Batch2']"
            ]
          },
          "metadata": {},
          "execution_count": 10
        }
      ]
    },
    {
      "cell_type": "code",
      "metadata": {
        "id": "AXeUhqLYd4yJ"
      },
      "source": [
        "adata1 = adata[adata.obs['batch'] ==c_keys[0]]\n",
        "adata2 = adata[adata.obs['batch'] !=c_keys[0]]"
      ],
      "execution_count": 11,
      "outputs": []
    },
    {
      "cell_type": "code",
      "metadata": {
        "colab": {
          "base_uri": "https://localhost:8080/"
        },
        "id": "2JHDr-DzenND",
        "outputId": "b319c43f-9fb0-42fa-b4b8-c5101be8523b"
      },
      "source": [
        "output_results, model = awgan.model.sequencing_train(adata1,adata2,c_keys, epoch=40)"
      ],
      "execution_count": 12,
      "outputs": [
        {
          "output_type": "stream",
          "name": "stdout",
          "text": [
            "##########################TrainingBatch2#####################\n",
            "#################Finish Pair finding##########################\n",
            "This is  0\n",
            "g step loss tensor(-0.0214, device='cuda:0', grad_fn=<NegBackward0>)\n",
            "This is  1\n",
            "g step loss tensor(-0.0449, device='cuda:0', grad_fn=<NegBackward0>)\n",
            "This is  2\n",
            "g step loss tensor(-0.6975, device='cuda:0', grad_fn=<NegBackward0>)\n",
            "This is  3\n",
            "g step loss tensor(-1.4432, device='cuda:0', grad_fn=<NegBackward0>)\n",
            "This is  4\n",
            "g step loss tensor(-0.9958, device='cuda:0', grad_fn=<NegBackward0>)\n",
            "This is  5\n",
            "g step loss tensor(-0.5381, device='cuda:0', grad_fn=<NegBackward0>)\n",
            "This is  6\n",
            "g step loss tensor(0.0391, device='cuda:0', grad_fn=<NegBackward0>)\n",
            "This is  7\n",
            "g step loss tensor(0.7869, device='cuda:0', grad_fn=<NegBackward0>)\n",
            "This is  8\n",
            "g step loss tensor(1.2792, device='cuda:0', grad_fn=<NegBackward0>)\n",
            "This is  9\n",
            "g step loss tensor(1.2446, device='cuda:0', grad_fn=<NegBackward0>)\n",
            "This is  10\n",
            "g step loss tensor(-0.9867, device='cuda:0', grad_fn=<NegBackward0>)\n",
            "This is  11\n",
            "g step loss tensor(-3.8273, device='cuda:0', grad_fn=<NegBackward0>)\n",
            "This is  12\n",
            "g step loss tensor(-4.5099, device='cuda:0', grad_fn=<NegBackward0>)\n",
            "This is  13\n",
            "g step loss tensor(-4.0455, device='cuda:0', grad_fn=<NegBackward0>)\n",
            "This is  14\n",
            "g step loss tensor(-2.8592, device='cuda:0', grad_fn=<NegBackward0>)\n",
            "This is  15\n",
            "g step loss tensor(-0.3241, device='cuda:0', grad_fn=<NegBackward0>)\n",
            "This is  16\n",
            "g step loss tensor(2.4537, device='cuda:0', grad_fn=<NegBackward0>)\n",
            "This is  17\n",
            "g step loss tensor(5.2970, device='cuda:0', grad_fn=<NegBackward0>)\n",
            "This is  18\n",
            "g step loss tensor(8.9691, device='cuda:0', grad_fn=<NegBackward0>)\n",
            "This is  19\n",
            "g step loss tensor(12.0023, device='cuda:0', grad_fn=<NegBackward0>)\n",
            "This is  20\n",
            "g step loss tensor(9.9831, device='cuda:0', grad_fn=<NegBackward0>)\n",
            "This is  21\n",
            "g step loss tensor(7.5928, device='cuda:0', grad_fn=<NegBackward0>)\n",
            "This is  22\n",
            "g step loss tensor(5.8667, device='cuda:0', grad_fn=<NegBackward0>)\n",
            "This is  23\n",
            "g step loss tensor(3.7571, device='cuda:0', grad_fn=<NegBackward0>)\n",
            "This is  24\n",
            "g step loss tensor(2.3041, device='cuda:0', grad_fn=<NegBackward0>)\n",
            "This is  25\n",
            "g step loss tensor(1.8312, device='cuda:0', grad_fn=<NegBackward0>)\n",
            "This is  26\n",
            "g step loss tensor(1.9293, device='cuda:0', grad_fn=<NegBackward0>)\n",
            "This is  27\n",
            "g step loss tensor(2.3366, device='cuda:0', grad_fn=<NegBackward0>)\n",
            "This is  28\n",
            "g step loss tensor(2.0152, device='cuda:0', grad_fn=<NegBackward0>)\n",
            "This is  29\n",
            "g step loss tensor(0.7447, device='cuda:0', grad_fn=<NegBackward0>)\n",
            "This is  30\n",
            "g step loss tensor(-0.6259, device='cuda:0', grad_fn=<NegBackward0>)\n",
            "This is  31\n",
            "g step loss tensor(-0.1332, device='cuda:0', grad_fn=<NegBackward0>)\n",
            "This is  32\n",
            "g step loss tensor(-1.5752, device='cuda:0', grad_fn=<NegBackward0>)\n",
            "This is  33\n",
            "g step loss tensor(-2.6858, device='cuda:0', grad_fn=<NegBackward0>)\n",
            "This is  34\n",
            "g step loss tensor(-3.7892, device='cuda:0', grad_fn=<NegBackward0>)\n",
            "This is  35\n",
            "g step loss tensor(-4.9362, device='cuda:0', grad_fn=<NegBackward0>)\n",
            "This is  36\n",
            "g step loss tensor(-5.8225, device='cuda:0', grad_fn=<NegBackward0>)\n",
            "This is  37\n",
            "g step loss tensor(-4.4691, device='cuda:0', grad_fn=<NegBackward0>)\n",
            "This is  38\n",
            "g step loss tensor(-2.1918, device='cuda:0', grad_fn=<NegBackward0>)\n",
            "This is  39\n",
            "g step loss tensor(-1.3923, device='cuda:0', grad_fn=<NegBackward0>)\n",
            "Train step finished\n",
            "###################### Finish Training ###########################\n"
          ]
        }
      ]
    },
    {
      "cell_type": "code",
      "metadata": {
        "colab": {
          "base_uri": "https://localhost:8080/"
        },
        "id": "9FldEKSJfGoW",
        "outputId": "8a791f24-6d68-4bfc-d54c-2b83d6df978f"
      },
      "source": [
        "output_results.shape"
      ],
      "execution_count": 13,
      "outputs": [
        {
          "output_type": "execute_result",
          "data": {
            "text/plain": [
              "(569, 2000)"
            ]
          },
          "metadata": {},
          "execution_count": 13
        }
      ]
    }
  ]
}